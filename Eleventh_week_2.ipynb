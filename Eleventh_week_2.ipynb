{
 "cells": [
  {
   "cell_type": "markdown",
   "id": "9733928e",
   "metadata": {},
   "source": [
    "## 예외처리\n",
    "- 오류 처리를 위해 사용됨.\n",
    "- 오류가 일어날 수 있는 코드 (try)와 오류 발생 시 실행되는 코드 부분 (except)으로 크게 나눌 수 있음.\n",
    "\n",
    "      try, except, (else)문\n",
    "      try, except, finally 문\n",
    "      raise, with 문 "
   ]
  },
  {
   "cell_type": "markdown",
   "id": "c6e45823",
   "metadata": {},
   "source": [
    "## try, except, else 문\n",
    "- try\n",
    "  \n",
    "      오류가 일어날 수 있는 코드   \n",
    "- except [오류 타입 as 객체]\n",
    "\n",
    "      오류 발생 시 실행할 코드\n",
    "      오류 타입 입력 시 해당 오류 타입 발생시 실행\n",
    "      as e 입력 시 오류 메시지를 객체 e에 받아옴\n",
    "- else\n",
    "     \n",
    "      오류 없을 시 실행 코드\n",
    "      else 없이도 실행 가능"
   ]
  },
  {
   "cell_type": "markdown",
   "id": "84b5287d",
   "metadata": {},
   "source": [
    "## try, except, finally 문\n",
    "- try\n",
    "  \n",
    "      오류가 일어날 수 있는 코드   \n",
    "- except [오류 타입 as 객체]\n",
    "\n",
    "      오류 발생 시 실행할 코드\n",
    "      오류 타입 입력 시 해당 오류 타입 발생시 실행\n",
    "      as e 입력 시 오류 메시지를 객체 e에 받아옴\n",
    "- finally\n",
    "     \n",
    "      오류 발생 여부와 관계없이 실행"
   ]
  },
  {
   "cell_type": "code",
   "execution_count": 6,
   "id": "4a862082",
   "metadata": {},
   "outputs": [
    {
     "name": "stdout",
     "output_type": "stream",
     "text": [
      "0으로 나눌 수 없습니다.\n",
      "\n",
      "0으로 나눌 수 없습니다.\n"
     ]
    }
   ],
   "source": [
    "# try~except\n",
    "# Zero Division Error : 0으로 나눌 떄\n",
    "try:\n",
    "    10%0\n",
    "except:\n",
    "    print(\"0으로 나눌 수 없습니다.\")\n",
    "    print()\n",
    "try:\n",
    "    10%0\n",
    "except ZeroDivisionError:\n",
    "    print(\"0으로 나눌 수 없습니다.\")\n"
   ]
  },
  {
   "cell_type": "code",
   "execution_count": 11,
   "id": "6b4fb18d",
   "metadata": {},
   "outputs": [
    {
     "name": "stdout",
     "output_type": "stream",
     "text": [
      "0으로 나눌 수 없습니다.\n",
      "오류 메세지 : division by zero\n"
     ]
    }
   ],
   "source": [
    "# EOFError 파일 입출력관련 에러\n",
    "try : \n",
    "    10/0\n",
    "except EOFError:\n",
    "    print(\"EOFError발생\")\n",
    "except ZeroDivisionError as e:\n",
    "    print(\"0으로 나눌 수 없습니다.\")\n",
    "    print(\"오류 메세지 : %s\"%e)"
   ]
  },
  {
   "cell_type": "code",
   "execution_count": 22,
   "id": "f9df43ee",
   "metadata": {
    "scrolled": true
   },
   "outputs": [
    {
     "name": "stdout",
     "output_type": "stream",
     "text": [
      "10: 오류 없음\n",
      "9: 오류 없음\n",
      "8: 오류 없음\n",
      "7: 오류 없음\n",
      "6: 오류 없음\n",
      "5: 오류 없음\n",
      "4: 오류 없음\n",
      "3: 오류 없음\n",
      "2: 오류 없음\n",
      "1: 오류 없음\n",
      "----- 0 : 오류 -----\n",
      "-1: 오류 없음\n",
      "-2: 오류 없음\n",
      "-3: 오류 없음\n",
      "-4: 오류 없음\n",
      "-5: 오류 없음\n",
      "-6: 오류 없음\n",
      "-7: 오류 없음\n",
      "-8: 오류 없음\n",
      "-9: 오류 없음\n"
     ]
    }
   ],
   "source": [
    "# try~except~else\n",
    "for i in range(10,-10,-1):\n",
    "    try:\n",
    "        10/i\n",
    "        #print(\"10/%d = %d\"%(i,10/i))\n",
    "    except:\n",
    "        print('----- %d : 오류 -----'%i)\n",
    "    else:\n",
    "        print('%d: 오류 없음'%i)"
   ]
  },
  {
   "cell_type": "code",
   "execution_count": 23,
   "id": "5628c559",
   "metadata": {},
   "outputs": [
    {
     "name": "stdout",
     "output_type": "stream",
     "text": [
      "10/10 = 1\n",
      "10 실행함\n",
      "10/9 = 1\n",
      "9 실행함\n",
      "10/8 = 1\n",
      "8 실행함\n",
      "10/7 = 1\n",
      "7 실행함\n",
      "10/6 = 1\n",
      "6 실행함\n",
      "10/5 = 2\n",
      "5 실행함\n",
      "10/4 = 2\n",
      "4 실행함\n",
      "10/3 = 3\n",
      "3 실행함\n",
      "10/2 = 5\n",
      "2 실행함\n",
      "10/1 = 10\n",
      "1 실행함\n",
      "----- 0 : 오류 -----\n",
      "0 실행함\n",
      "10/-1 = -10\n",
      "-1 실행함\n",
      "10/-2 = -5\n",
      "-2 실행함\n",
      "10/-3 = -3\n",
      "-3 실행함\n",
      "10/-4 = -2\n",
      "-4 실행함\n",
      "10/-5 = -2\n",
      "-5 실행함\n",
      "10/-6 = -1\n",
      "-6 실행함\n",
      "10/-7 = -1\n",
      "-7 실행함\n",
      "10/-8 = -1\n",
      "-8 실행함\n",
      "10/-9 = -1\n",
      "-9 실행함\n"
     ]
    }
   ],
   "source": [
    "# try~except~finally\n",
    "for i in range(10,-10,-1):\n",
    "    try:\n",
    "        10/i\n",
    "        print(\"10/%d = %d\"%(i,10/i))\n",
    "    except:\n",
    "        print('----- %d : 오류 -----'%i)\n",
    "    finally:\n",
    "        print('%d 실행함'%i)"
   ]
  }
 ],
 "metadata": {
  "kernelspec": {
   "display_name": "Python 3",
   "language": "python",
   "name": "python3"
  },
  "language_info": {
   "codemirror_mode": {
    "name": "ipython",
    "version": 3
   },
   "file_extension": ".py",
   "mimetype": "text/x-python",
   "name": "python",
   "nbconvert_exporter": "python",
   "pygments_lexer": "ipython3",
   "version": "3.8.8"
  }
 },
 "nbformat": 4,
 "nbformat_minor": 5
}
