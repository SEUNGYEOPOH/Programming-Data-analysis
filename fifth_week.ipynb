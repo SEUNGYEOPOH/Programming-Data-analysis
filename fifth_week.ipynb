{
 "cells": [
  {
   "cell_type": "code",
   "execution_count": 1,
   "id": "cef1b129",
   "metadata": {},
   "outputs": [],
   "source": [
    "# 작성자 : 오승엽\n",
    "# 작성일자 : 2021-10-07\n",
    "# 작성목적 : 실습"
   ]
  },
  {
   "cell_type": "code",
   "execution_count": 55,
   "id": "2fbe2639",
   "metadata": {},
   "outputs": [
    {
     "name": "stdout",
     "output_type": "stream",
     "text": [
      "1\n",
      "2\n",
      "3\n"
     ]
    }
   ],
   "source": [
    "# 반복문 2\n",
    "# break 문\n",
    "for i in range(1,11):\n",
    "    print(i)\n",
    "    if i%3==0:\n",
    "        break"
   ]
  },
  {
   "cell_type": "code",
   "execution_count": 57,
   "id": "8a197cf0",
   "metadata": {},
   "outputs": [
    {
     "name": "stdout",
     "output_type": "stream",
     "text": [
      "2\n",
      "4\n",
      "5\n",
      "7\n",
      "8\n",
      "10\n",
      "11\n"
     ]
    }
   ],
   "source": [
    "# continue 문\n",
    "i=1\n",
    "while i<=10:\n",
    "    i+=1\n",
    "    if i % 3==0:\n",
    "        continue\n",
    "    print(i)"
   ]
  },
  {
   "cell_type": "code",
   "execution_count": 59,
   "id": "de4aaeec",
   "metadata": {},
   "outputs": [
    {
     "name": "stdout",
     "output_type": "stream",
     "text": [
      "2\n",
      "3\n",
      "4\n",
      "5\n",
      "6\n",
      "7\n",
      "8\n",
      "9\n",
      "10\n",
      "11\n"
     ]
    }
   ],
   "source": [
    "# pass 문\n",
    "i = 1\n",
    "while i <= 10:\n",
    "    i+=1\n",
    "    if i % 3==0:\n",
    "        pass \n",
    "    print(i)"
   ]
  },
  {
   "cell_type": "code",
   "execution_count": 62,
   "id": "0024b808",
   "metadata": {},
   "outputs": [
    {
     "name": "stdout",
     "output_type": "stream",
     "text": [
      "2\n",
      "3\n",
      "4\n",
      "5\n",
      "6\n",
      "7\n",
      "8\n",
      "9\n",
      "10\n",
      "11\n"
     ]
    }
   ],
   "source": [
    "i = 1\n",
    "while i<=10:\n",
    "    i+=1\n",
    "    print(i)"
   ]
  },
  {
   "cell_type": "code",
   "execution_count": null,
   "id": "56fb2f88",
   "metadata": {},
   "outputs": [],
   "source": []
  },
  {
   "cell_type": "code",
   "execution_count": 66,
   "id": "70292108",
   "metadata": {},
   "outputs": [
    {
     "name": "stdout",
     "output_type": "stream",
     "text": [
      "i는 1 j는 1\n",
      "i는 1 j는 2\n",
      "i는 1 j는 3\n",
      "i는 1 j는 4\n",
      "i는 1 j는 5\n",
      "i는 1 j는 6\n",
      "i는 1 j는 7\n",
      "i는 1 j는 8\n",
      "i는 1 j는 9\n",
      "i는 2 j는 1\n",
      "i는 2 j는 2\n",
      "i는 2 j는 3\n",
      "i는 2 j는 4\n",
      "i는 2 j는 5\n",
      "i는 2 j는 6\n",
      "i는 2 j는 7\n",
      "i는 2 j는 8\n",
      "i는 2 j는 9\n",
      "i는 3 j는 1\n",
      "i는 3 j는 2\n",
      "i는 3 j는 3\n",
      "i는 3 j는 4\n",
      "i는 3 j는 5\n",
      "i는 3 j는 6\n",
      "i는 3 j는 7\n",
      "i는 3 j는 8\n",
      "i는 3 j는 9\n",
      "i는 4 j는 1\n",
      "i는 4 j는 2\n",
      "i는 4 j는 3\n",
      "i는 4 j는 4\n",
      "i는 4 j는 5\n",
      "i는 4 j는 6\n",
      "i는 4 j는 7\n",
      "i는 4 j는 8\n",
      "i는 4 j는 9\n",
      "i는 5 j는 1\n",
      "i는 5 j는 2\n",
      "i는 5 j는 3\n",
      "i는 5 j는 4\n",
      "i는 5 j는 5\n",
      "i는 5 j는 6\n",
      "i는 5 j는 7\n",
      "i는 5 j는 8\n",
      "i는 5 j는 9\n",
      "i는 6 j는 1\n",
      "i는 6 j는 2\n",
      "i는 6 j는 3\n",
      "i는 6 j는 4\n",
      "i는 6 j는 5\n",
      "i는 6 j는 6\n",
      "i는 6 j는 7\n",
      "i는 6 j는 8\n",
      "i는 6 j는 9\n",
      "i는 7 j는 1\n",
      "i는 7 j는 2\n",
      "i는 7 j는 3\n",
      "i는 7 j는 4\n",
      "i는 7 j는 5\n",
      "i는 7 j는 6\n",
      "i는 7 j는 7\n",
      "i는 7 j는 8\n",
      "i는 7 j는 9\n",
      "i는 8 j는 1\n",
      "i는 8 j는 2\n",
      "i는 8 j는 3\n",
      "i는 8 j는 4\n",
      "i는 8 j는 5\n",
      "i는 8 j는 6\n",
      "i는 8 j는 7\n",
      "i는 8 j는 8\n",
      "i는 8 j는 9\n",
      "i는 9 j는 1\n",
      "i는 9 j는 2\n",
      "i는 9 j는 3\n",
      "i는 9 j는 4\n",
      "i는 9 j는 5\n",
      "i는 9 j는 6\n",
      "i는 9 j는 7\n",
      "i는 9 j는 8\n",
      "i는 9 j는 9\n"
     ]
    }
   ],
   "source": [
    "# 중첩된 반복문\n",
    "for i in range(1,10):\n",
    "    for j in range(1,10):\n",
    "        print('i는 %d j는 %d'%(i,j))"
   ]
  },
  {
   "cell_type": "markdown",
   "id": "6702d020",
   "metadata": {},
   "source": [
    "## 함수\n",
    "- 연산을 수행하는 객체화 된 code\n",
    "- 자주 사용하는 연산을 객체화 시키기에 유용\n",
    "      객체 -> 어떠한 속성값과 행동을 가지고 있는 data\n",
    "- 매개변수가 있는 or 없는, 그리고 return(반환)이 있는 or 없는 함수가 있음\n",
    "      매개변수(parameter) -> 함수의 입력으로 전달된 값을 받는 변수, \n",
    "      전역변수 -> 어떤 변수 영역 내에서도 접근할 수 있는 변수를 의미\n",
    "      매개변수 != 인수\n",
    "- 간결하고 생산성을 높일 수 있음\n",
    "- 파이썬 함수 리턴 값은 하나의 tuple로 반환됨\n",
    "- return을 만나면 결과 값을 리턴하고 함수를 종료함"
   ]
  },
  {
   "cell_type": "code",
   "execution_count": 73,
   "id": "1fb8bb57",
   "metadata": {},
   "outputs": [
    {
     "name": "stdout",
     "output_type": "stream",
     "text": [
      "15\n"
     ]
    }
   ],
   "source": [
    "# 함수\n",
    "# 함수 정의\n",
    "def triple(a):\n",
    "    result = a*3\n",
    "    return result\n",
    "\n",
    "# 함수 사용\n",
    "type(triple(5))\n",
    "b = triple(5) #b는 오브젝트\n",
    "print(b)"
   ]
  },
  {
   "cell_type": "code",
   "execution_count": 80,
   "id": "21d7b35c",
   "metadata": {},
   "outputs": [
    {
     "name": "stdout",
     "output_type": "stream",
     "text": [
      "15\n",
      "15\n",
      "15\n"
     ]
    },
    {
     "data": {
      "text/plain": [
       "NoneType"
      ]
     },
     "execution_count": 80,
     "metadata": {},
     "output_type": "execute_result"
    }
   ],
   "source": [
    "# 리턴이 없는 함수\n",
    "def triple2(a):\n",
    "    result = a*3\n",
    "    print(result)\n",
    "\n",
    "triple2(5) # 실행 -> 함수내의 출력\n",
    "b=triple2(5)# return이 없기 때문에 할당이 안됨\n",
    "type(triple2(5)) # return이 없기 때문에 특정 value가 있는 건 아님."
   ]
  },
  {
   "cell_type": "code",
   "execution_count": 79,
   "id": "5dd49718",
   "metadata": {},
   "outputs": [
    {
     "name": "stdout",
     "output_type": "stream",
     "text": [
      "None\n"
     ]
    }
   ],
   "source": [
    "print(b) # 할당이 안됨"
   ]
  },
  {
   "cell_type": "code",
   "execution_count": null,
   "id": "e46aa221",
   "metadata": {},
   "outputs": [],
   "source": []
  }
 ],
 "metadata": {
  "kernelspec": {
   "display_name": "Python 3",
   "language": "python",
   "name": "python3"
  },
  "language_info": {
   "codemirror_mode": {
    "name": "ipython",
    "version": 3
   },
   "file_extension": ".py",
   "mimetype": "text/x-python",
   "name": "python",
   "nbconvert_exporter": "python",
   "pygments_lexer": "ipython3",
   "version": "3.8.8"
  }
 },
 "nbformat": 4,
 "nbformat_minor": 5
}
