{
 "cells": [
  {
   "cell_type": "code",
   "execution_count": null,
   "id": "aafdd305",
   "metadata": {},
   "outputs": [],
   "source": [
    "# 작성자 : 오승엽\n",
    "# 작성일자 :2021-09-23\n",
    "# 작성목적 : 실습 및 적용"
   ]
  },
  {
   "cell_type": "code",
   "execution_count": 3,
   "id": "1a9fd572",
   "metadata": {},
   "outputs": [
    {
     "name": "stdout",
     "output_type": "stream",
     "text": [
      "3\n",
      "-1\n",
      "30\n",
      "0.875\n",
      "8\n",
      "1\n",
      "0\n",
      "3\n"
     ]
    }
   ],
   "source": [
    "# 연산자\n",
    "# 산술 연산자\n",
    "# +, -, *, /\n",
    "print(1+2)\n",
    "print(3-4)\n",
    "print(5*6)\n",
    "print(7/8)\n",
    "\n",
    "# 제곱 : **\n",
    "print(2**3)\n",
    "\n",
    "# 나머지 : %\n",
    "print(7%2)\n",
    "print(8%2)\n",
    "\n",
    "# 나머지 버리는 나누기 : //\n",
    "print(7//2)"
   ]
  },
  {
   "cell_type": "code",
   "execution_count": 10,
   "id": "c0eb9beb",
   "metadata": {},
   "outputs": [
    {
     "name": "stdout",
     "output_type": "stream",
     "text": [
      "False\n",
      "<class 'bool'>\n",
      "<class 'bool'>\n",
      "False\n",
      "True\n",
      "<class 'bool'>\n",
      "True\n",
      "False\n",
      "True\n",
      "True\n",
      "False\n"
     ]
    }
   ],
   "source": [
    "# 비교 연산자\n",
    "\n",
    "# >\n",
    "print(1>2)\n",
    "print(type(1<2))\n",
    "\n",
    "a=1>2\n",
    "print(type(a))\n",
    "\n",
    "# >=\n",
    "print(a>=2)\n",
    "\n",
    "# <\n",
    "print(a<2)\n",
    "print(type(1<2))\n",
    "\n",
    "# <=\n",
    "print(1<=2)\n",
    "\n",
    "# ==\n",
    "print(3==4)\n",
    "print(4==4)\n",
    "\n",
    "# !=\n",
    "print(3!=4)\n",
    "print(3!=3)"
   ]
  },
  {
   "cell_type": "code",
   "execution_count": 14,
   "id": "6a2be166",
   "metadata": {},
   "outputs": [
    {
     "name": "stdout",
     "output_type": "stream",
     "text": [
      "False\n",
      "True\n",
      "False\n",
      "True\n"
     ]
    }
   ],
   "source": [
    "# 논리 연산자\n",
    "a=True\n",
    "b=False\n",
    "\n",
    "# and, &\n",
    "print(a & b)\n",
    "\n",
    "# or, |\n",
    "print(a|b)\n",
    "\n",
    "# not\n",
    "print(not True)\n",
    "print(not False)"
   ]
  },
  {
   "cell_type": "code",
   "execution_count": 15,
   "id": "4f10117e",
   "metadata": {},
   "outputs": [
    {
     "name": "stdout",
     "output_type": "stream",
     "text": [
      "True\n",
      "False\n",
      "True\n",
      "False\n"
     ]
    }
   ],
   "source": [
    "# 멤버 연산자\n",
    "# in\n",
    "a=[1,2,3]\n",
    "print(2 in a)\n",
    "print(4 in a)\n",
    "\n",
    "# not in\n",
    "print(4 not in a)\n",
    "print(1 not in a) "
   ]
  },
  {
   "cell_type": "code",
   "execution_count": 17,
   "id": "09efb7cd",
   "metadata": {},
   "outputs": [
    {
     "name": "stdout",
     "output_type": "stream",
     "text": [
      "1\n"
     ]
    }
   ],
   "source": [
    "# 연산자 우선순위\n",
    "\n",
    "a=1 + (2**3)*3 - (3*8)\n",
    "print(a)"
   ]
  },
  {
   "cell_type": "code",
   "execution_count": null,
   "id": "9251234f",
   "metadata": {},
   "outputs": [],
   "source": []
  }
 ],
 "metadata": {
  "kernelspec": {
   "display_name": "Python 3",
   "language": "python",
   "name": "python3"
  },
  "language_info": {
   "codemirror_mode": {
    "name": "ipython",
    "version": 3
   },
   "file_extension": ".py",
   "mimetype": "text/x-python",
   "name": "python",
   "nbconvert_exporter": "python",
   "pygments_lexer": "ipython3",
   "version": "3.8.8"
  }
 },
 "nbformat": 4,
 "nbformat_minor": 5
}
