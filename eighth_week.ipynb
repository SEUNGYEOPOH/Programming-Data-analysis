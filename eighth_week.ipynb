{
 "cells": [
  {
   "cell_type": "code",
   "execution_count": 1,
   "id": "212815ea",
   "metadata": {},
   "outputs": [],
   "source": [
    "### 작성일자 : 2021-11-08\n",
    "### 작성자 : 오승엽\n",
    "### 작성목적 : 실습 및 적용"
   ]
  },
  {
   "cell_type": "markdown",
   "id": "1c844a86",
   "metadata": {},
   "source": [
    "## 입출력\n",
    "### 입력\n",
    "- 내장함수 input()을 통해 입력을 받을 수 있음\n",
    "- 파일을 통해 입력 가능.\n",
    "\n",
    "      open, read, close 메소드 활용 가능\n",
    "      \n",
    "### 출력\n",
    "- print() 등을 통해 결과 출력 가능\n",
    "- 파일을 통해 결과를 출력할 수 있음.\n",
    "\n",
    "      open, write, close 메소드 활용 가능"
   ]
  },
  {
   "cell_type": "code",
   "execution_count": 2,
   "id": "a883082f",
   "metadata": {},
   "outputs": [
    {
     "name": "stdout",
     "output_type": "stream",
     "text": [
      "10\n",
      "10\n",
      "<class 'str'>\n"
     ]
    }
   ],
   "source": [
    "# 파이썬 입출력\n",
    "a=input()\n",
    "print(a)\n",
    "print(type(a))"
   ]
  },
  {
   "cell_type": "code",
   "execution_count": 3,
   "id": "ae21f26b",
   "metadata": {},
   "outputs": [
    {
     "name": "stdout",
     "output_type": "stream",
     "text": [
      "<class 'int'>\n"
     ]
    }
   ],
   "source": [
    "a= int(a)\n",
    "print(type(a))"
   ]
  },
  {
   "cell_type": "code",
   "execution_count": 4,
   "id": "07223f9d",
   "metadata": {},
   "outputs": [
    {
     "name": "stdout",
     "output_type": "stream",
     "text": [
      "정수형을 입력하세요 :10\n"
     ]
    }
   ],
   "source": [
    "a = int(input(\"정수형을 입력하세요 :\"))"
   ]
  },
  {
   "cell_type": "code",
   "execution_count": 9,
   "id": "f5d049d2",
   "metadata": {},
   "outputs": [],
   "source": [
    "# 파일쓰기\n",
    "file = open('c:/lecture/소수.txt','w')\n",
    "for i in range(2,101):\n",
    "    count=0\n",
    "    for j in range(1,i+1):\n",
    "        if i%j==0:\n",
    "            count +=1\n",
    "    if count == 2:\n",
    "        file.write(str(i)+'\\n') \n",
    "file.close()"
   ]
  },
  {
   "cell_type": "code",
   "execution_count": 13,
   "id": "ec5624b5",
   "metadata": {},
   "outputs": [],
   "source": [
    "# 파일읽기\n",
    "file = open('c:/lecture/소수.txt','r')\n",
    "prime=file.read()"
   ]
  },
  {
   "cell_type": "code",
   "execution_count": 15,
   "id": "d56d7c14",
   "metadata": {},
   "outputs": [
    {
     "name": "stdout",
     "output_type": "stream",
     "text": [
      "2\n",
      "3\n",
      "5\n",
      "7\n",
      "11\n",
      "13\n",
      "17\n",
      "19\n",
      "23\n",
      "29\n",
      "31\n",
      "37\n",
      "41\n",
      "43\n",
      "47\n",
      "53\n",
      "59\n",
      "61\n",
      "67\n",
      "71\n",
      "73\n",
      "79\n",
      "83\n",
      "89\n",
      "97\n",
      "\n"
     ]
    }
   ],
   "source": [
    "print(prime)"
   ]
  },
  {
   "cell_type": "code",
   "execution_count": 17,
   "id": "cef9bd39",
   "metadata": {},
   "outputs": [
    {
     "name": "stdout",
     "output_type": "stream",
     "text": [
      "양의 정수 하나를 입력하세요 :10\n",
      "또 다른 양의 정수를 입력하세요 :12\n",
      "최대 공약수 : 2\n"
     ]
    }
   ],
   "source": [
    "# [입력문 1]\n",
    "# 사용자에게 두 수를 입력 받아 두 수의 최대 공약수를 출력\n",
    "a = int(input('양의 정수 하나를 입력하세요 :'))\n",
    "b = int(input('또 다른 양의 정수를 입력하세요 :'))\n",
    "for i in range(b,0,-1):\n",
    "    if a%i==0 and b%i==0:\n",
    "        print('최대 공약수 : %d'%i)\n",
    "        break\n"
   ]
  },
  {
   "cell_type": "code",
   "execution_count": 18,
   "id": "d6766dce",
   "metadata": {},
   "outputs": [
    {
     "name": "stdout",
     "output_type": "stream",
     "text": [
      "양의 정수 하나를 입력하세요 :10\n",
      "또 다른 양의 정수를 입력하세요 :12\n",
      "최소 공배수 : 60\n"
     ]
    }
   ],
   "source": [
    "# [입력문 2]\n",
    "# 사용자에게 두 수를 입력 받아 두 수의 최소 공배수를 출력\n",
    "a = int(input('양의 정수 하나를 입력하세요 :'))\n",
    "b = int(input('또 다른 양의 정수를 입력하세요 :'))\n",
    "for i in range(1,a*b+1):\n",
    "    if i%a==0 and i%b==0:\n",
    "        print('최소 공배수  : %d'%i)\n",
    "        break"
   ]
  },
  {
   "cell_type": "code",
   "execution_count": 19,
   "id": "86d0755d",
   "metadata": {},
   "outputs": [
    {
     "name": "stdout",
     "output_type": "stream",
     "text": [
      "양의 정수 하나를 입력하세요 :100\n",
      "2\n",
      "3\n",
      "5\n",
      "7\n",
      "11\n",
      "13\n",
      "17\n",
      "19\n",
      "23\n",
      "29\n",
      "31\n",
      "37\n",
      "41\n",
      "43\n",
      "47\n",
      "53\n",
      "59\n",
      "61\n",
      "67\n",
      "71\n",
      "73\n",
      "79\n",
      "83\n",
      "89\n",
      "97\n"
     ]
    }
   ],
   "source": [
    "# [입력문 3]\n",
    "# 사용자에게 하나의 수를 입력 받고 2부터 해당 숫자까지 숫자 중 소수 출력\n",
    "a = int(input('양의 정수 하나를 입력하세요 :'))\n",
    "for i in range(2,a+1):\n",
    "    count=0\n",
    "    for z in range(1,i+1):\n",
    "        if i%z==0:\n",
    "            count+=1\n",
    "    if count == 2:\n",
    "        print(i)"
   ]
  },
  {
   "cell_type": "code",
   "execution_count": 29,
   "id": "221de439",
   "metadata": {},
   "outputs": [
    {
     "name": "stdout",
     "output_type": "stream",
     "text": [
      "양의 정수를 입력하세요 :20\n"
     ]
    },
    {
     "data": {
      "text/plain": [
       "[2, 3, 5, 7, 11, 13, 17, 19]"
      ]
     },
     "execution_count": 29,
     "metadata": {},
     "output_type": "execute_result"
    }
   ],
   "source": [
    "# [입력문 4]\n",
    "# 사용자에게 하나의 수를 입력 받고 2부터 해당 숫자까지 숫자 중 소수 리턴 -> 함수\n",
    "\n",
    "def prime(a):\n",
    "    prime_list=[]\n",
    "    for i in range(2,a+1):\n",
    "        count=0\n",
    "        for z in range(1,i+1):\n",
    "            if i%z==0:\n",
    "                count+=1\n",
    "        if count == 2:\n",
    "            prime_list.append(i)\n",
    "    return prime_list\n",
    "    \n",
    "prime(int(input('양의 정수를 입력하세요 :')))"
   ]
  },
  {
   "cell_type": "code",
   "execution_count": 34,
   "id": "8288a772",
   "metadata": {},
   "outputs": [
    {
     "name": "stdout",
     "output_type": "stream",
     "text": [
      "양의 정수를 입력하여 주세요 : 20\n",
      "소수가 아닙니다\n"
     ]
    }
   ],
   "source": [
    "# [입력문 5]\n",
    "# 사용자가 입력한 양의 정수가 소수인지 아닌지를 출력하는 함수\n",
    "# 방법1\n",
    "def prime_tester(a):\n",
    "    count=0\n",
    "    for z in range(1,a+1):\n",
    "        if a%z==0:\n",
    "            count+=1\n",
    "    if count==2:\n",
    "        print(\"소수입니다\")\n",
    "    else :\n",
    "        print(\"소수가 아닙니다\")\n",
    "    \n",
    "    \n",
    "prime_tester(int(input(\"양의 정수를 입력하여 주세요 : \")))"
   ]
  },
  {
   "cell_type": "code",
   "execution_count": null,
   "id": "76acbfe6",
   "metadata": {},
   "outputs": [],
   "source": []
  }
 ],
 "metadata": {
  "kernelspec": {
   "display_name": "Python 3",
   "language": "python",
   "name": "python3"
  },
  "language_info": {
   "codemirror_mode": {
    "name": "ipython",
    "version": 3
   },
   "file_extension": ".py",
   "mimetype": "text/x-python",
   "name": "python",
   "nbconvert_exporter": "python",
   "pygments_lexer": "ipython3",
   "version": "3.8.8"
  }
 },
 "nbformat": 4,
 "nbformat_minor": 5
}
