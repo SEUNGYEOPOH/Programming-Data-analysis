{
 "cells": [
  {
   "cell_type": "markdown",
   "id": "683d939c",
   "metadata": {},
   "source": [
    " "
   ]
  },
  {
   "cell_type": "markdown",
   "id": "9d01a306",
   "metadata": {},
   "source": [
    "### [기본 1] \n",
    "- 1 부터 100 까지의 숫자 중 홀수만 출력하는 프로그램을 작성하시오."
   ]
  },
  {
   "cell_type": "code",
   "execution_count": 18,
   "id": "6e4f9254",
   "metadata": {},
   "outputs": [
    {
     "name": "stdout",
     "output_type": "stream",
     "text": [
      "1\n",
      "3\n",
      "5\n",
      "7\n",
      "9\n",
      "11\n",
      "13\n",
      "15\n",
      "17\n",
      "19\n",
      "21\n",
      "23\n",
      "25\n",
      "27\n",
      "29\n",
      "31\n",
      "33\n",
      "35\n",
      "37\n",
      "39\n",
      "41\n",
      "43\n",
      "45\n",
      "47\n",
      "49\n",
      "51\n",
      "53\n",
      "55\n",
      "57\n",
      "59\n",
      "61\n",
      "63\n",
      "65\n",
      "67\n",
      "69\n",
      "71\n",
      "73\n",
      "75\n",
      "77\n",
      "79\n",
      "81\n",
      "83\n",
      "85\n",
      "87\n",
      "89\n",
      "91\n",
      "93\n",
      "95\n",
      "97\n",
      "99\n"
     ]
    }
   ],
   "source": [
    "for i in range(1,101):\n",
    "    if i%2 != 0:\n",
    "        print(i) "
   ]
  },
  {
   "cell_type": "markdown",
   "id": "d171923d",
   "metadata": {},
   "source": [
    "### [기본 2]\n",
    "- 1 단부터 9 단까지 순서대로 구구단을 출력하는 프로그램을작성하시오"
   ]
  },
  {
   "cell_type": "code",
   "execution_count": 19,
   "id": "8452a2c7",
   "metadata": {},
   "outputs": [
    {
     "name": "stdout",
     "output_type": "stream",
     "text": [
      "1 X 1 = 1\n",
      "1 X 2 = 2\n",
      "1 X 3 = 3\n",
      "1 X 4 = 4\n",
      "1 X 5 = 5\n",
      "1 X 6 = 6\n",
      "1 X 7 = 7\n",
      "1 X 8 = 8\n",
      "1 X 9 = 9\n",
      "2 X 1 = 2\n",
      "2 X 2 = 4\n",
      "2 X 3 = 6\n",
      "2 X 4 = 8\n",
      "2 X 5 = 10\n",
      "2 X 6 = 12\n",
      "2 X 7 = 14\n",
      "2 X 8 = 16\n",
      "2 X 9 = 18\n",
      "3 X 1 = 3\n",
      "3 X 2 = 6\n",
      "3 X 3 = 9\n",
      "3 X 4 = 12\n",
      "3 X 5 = 15\n",
      "3 X 6 = 18\n",
      "3 X 7 = 21\n",
      "3 X 8 = 24\n",
      "3 X 9 = 27\n",
      "4 X 1 = 4\n",
      "4 X 2 = 8\n",
      "4 X 3 = 12\n",
      "4 X 4 = 16\n",
      "4 X 5 = 20\n",
      "4 X 6 = 24\n",
      "4 X 7 = 28\n",
      "4 X 8 = 32\n",
      "4 X 9 = 36\n",
      "5 X 1 = 5\n",
      "5 X 2 = 10\n",
      "5 X 3 = 15\n",
      "5 X 4 = 20\n",
      "5 X 5 = 25\n",
      "5 X 6 = 30\n",
      "5 X 7 = 35\n",
      "5 X 8 = 40\n",
      "5 X 9 = 45\n",
      "6 X 1 = 6\n",
      "6 X 2 = 12\n",
      "6 X 3 = 18\n",
      "6 X 4 = 24\n",
      "6 X 5 = 30\n",
      "6 X 6 = 36\n",
      "6 X 7 = 42\n",
      "6 X 8 = 48\n",
      "6 X 9 = 54\n",
      "7 X 1 = 7\n",
      "7 X 2 = 14\n",
      "7 X 3 = 21\n",
      "7 X 4 = 28\n",
      "7 X 5 = 35\n",
      "7 X 6 = 42\n",
      "7 X 7 = 49\n",
      "7 X 8 = 56\n",
      "7 X 9 = 63\n",
      "8 X 1 = 8\n",
      "8 X 2 = 16\n",
      "8 X 3 = 24\n",
      "8 X 4 = 32\n",
      "8 X 5 = 40\n",
      "8 X 6 = 48\n",
      "8 X 7 = 56\n",
      "8 X 8 = 64\n",
      "8 X 9 = 72\n",
      "9 X 1 = 9\n",
      "9 X 2 = 18\n",
      "9 X 3 = 27\n",
      "9 X 4 = 36\n",
      "9 X 5 = 45\n",
      "9 X 6 = 54\n",
      "9 X 7 = 63\n",
      "9 X 8 = 72\n",
      "9 X 9 = 81\n"
     ]
    }
   ],
   "source": [
    "for i in range(1,10):\n",
    "    for z in range(1,10):\n",
    "        print(\"%d X %d = %d\"%(i,z,i*z))"
   ]
  },
  {
   "cell_type": "markdown",
   "id": "a9464722",
   "metadata": {},
   "source": [
    " ### [기본 3] \n",
    "- 9 단부터 1 단까지 순서로 구구단을 출력하는 프로그램을 작성하시오 . 앞의 숫자만 역순 , 뒤의 숫자는 1~9 순서대로 출력"
   ]
  },
  {
   "cell_type": "code",
   "execution_count": 20,
   "id": "80959073",
   "metadata": {},
   "outputs": [
    {
     "name": "stdout",
     "output_type": "stream",
     "text": [
      "9 X 1 = 9\n",
      "9 X 2 = 18\n",
      "9 X 3 = 27\n",
      "9 X 4 = 36\n",
      "9 X 5 = 45\n",
      "9 X 6 = 54\n",
      "9 X 7 = 63\n",
      "9 X 8 = 72\n",
      "9 X 9 = 81\n",
      "8 X 1 = 8\n",
      "8 X 2 = 16\n",
      "8 X 3 = 24\n",
      "8 X 4 = 32\n",
      "8 X 5 = 40\n",
      "8 X 6 = 48\n",
      "8 X 7 = 56\n",
      "8 X 8 = 64\n",
      "8 X 9 = 72\n",
      "7 X 1 = 7\n",
      "7 X 2 = 14\n",
      "7 X 3 = 21\n",
      "7 X 4 = 28\n",
      "7 X 5 = 35\n",
      "7 X 6 = 42\n",
      "7 X 7 = 49\n",
      "7 X 8 = 56\n",
      "7 X 9 = 63\n",
      "6 X 1 = 6\n",
      "6 X 2 = 12\n",
      "6 X 3 = 18\n",
      "6 X 4 = 24\n",
      "6 X 5 = 30\n",
      "6 X 6 = 36\n",
      "6 X 7 = 42\n",
      "6 X 8 = 48\n",
      "6 X 9 = 54\n",
      "5 X 1 = 5\n",
      "5 X 2 = 10\n",
      "5 X 3 = 15\n",
      "5 X 4 = 20\n",
      "5 X 5 = 25\n",
      "5 X 6 = 30\n",
      "5 X 7 = 35\n",
      "5 X 8 = 40\n",
      "5 X 9 = 45\n",
      "4 X 1 = 4\n",
      "4 X 2 = 8\n",
      "4 X 3 = 12\n",
      "4 X 4 = 16\n",
      "4 X 5 = 20\n",
      "4 X 6 = 24\n",
      "4 X 7 = 28\n",
      "4 X 8 = 32\n",
      "4 X 9 = 36\n",
      "3 X 1 = 3\n",
      "3 X 2 = 6\n",
      "3 X 3 = 9\n",
      "3 X 4 = 12\n",
      "3 X 5 = 15\n",
      "3 X 6 = 18\n",
      "3 X 7 = 21\n",
      "3 X 8 = 24\n",
      "3 X 9 = 27\n",
      "2 X 1 = 2\n",
      "2 X 2 = 4\n",
      "2 X 3 = 6\n",
      "2 X 4 = 8\n",
      "2 X 5 = 10\n",
      "2 X 6 = 12\n",
      "2 X 7 = 14\n",
      "2 X 8 = 16\n",
      "2 X 9 = 18\n",
      "1 X 1 = 1\n",
      "1 X 2 = 2\n",
      "1 X 3 = 3\n",
      "1 X 4 = 4\n",
      "1 X 5 = 5\n",
      "1 X 6 = 6\n",
      "1 X 7 = 7\n",
      "1 X 8 = 8\n",
      "1 X 9 = 9\n"
     ]
    }
   ],
   "source": [
    "for i in range(9,0,-1):\n",
    "    for z in range(1,10):\n",
    "        print(\"%d X %d = %d\"%(i,z,i*z)) "
   ]
  },
  {
   "cell_type": "markdown",
   "id": "2a696cc7",
   "metadata": {},
   "source": [
    " ### [기본 4] \n",
    "- 1 단부터 9 단까지 구구단 중 2 단 , 5 단을 제외하고 출력하는 프로그램을 작성하시오 . 앞자리에 오는 숫자 만을 기준으로 제외"
   ]
  },
  {
   "cell_type": "code",
   "execution_count": 24,
   "id": "e1c58450",
   "metadata": {},
   "outputs": [
    {
     "name": "stdout",
     "output_type": "stream",
     "text": [
      "1 X 1 = 1\n",
      "1 X 2 = 2\n",
      "1 X 3 = 3\n",
      "1 X 4 = 4\n",
      "1 X 5 = 5\n",
      "1 X 6 = 6\n",
      "1 X 7 = 7\n",
      "1 X 8 = 8\n",
      "1 X 9 = 9\n",
      "3 X 1 = 3\n",
      "3 X 2 = 6\n",
      "3 X 3 = 9\n",
      "3 X 4 = 12\n",
      "3 X 5 = 15\n",
      "3 X 6 = 18\n",
      "3 X 7 = 21\n",
      "3 X 8 = 24\n",
      "3 X 9 = 27\n",
      "4 X 1 = 4\n",
      "4 X 2 = 8\n",
      "4 X 3 = 12\n",
      "4 X 4 = 16\n",
      "4 X 5 = 20\n",
      "4 X 6 = 24\n",
      "4 X 7 = 28\n",
      "4 X 8 = 32\n",
      "4 X 9 = 36\n",
      "6 X 1 = 6\n",
      "6 X 2 = 12\n",
      "6 X 3 = 18\n",
      "6 X 4 = 24\n",
      "6 X 5 = 30\n",
      "6 X 6 = 36\n",
      "6 X 7 = 42\n",
      "6 X 8 = 48\n",
      "6 X 9 = 54\n",
      "7 X 1 = 7\n",
      "7 X 2 = 14\n",
      "7 X 3 = 21\n",
      "7 X 4 = 28\n",
      "7 X 5 = 35\n",
      "7 X 6 = 42\n",
      "7 X 7 = 49\n",
      "7 X 8 = 56\n",
      "7 X 9 = 63\n",
      "8 X 1 = 8\n",
      "8 X 2 = 16\n",
      "8 X 3 = 24\n",
      "8 X 4 = 32\n",
      "8 X 5 = 40\n",
      "8 X 6 = 48\n",
      "8 X 7 = 56\n",
      "8 X 8 = 64\n",
      "8 X 9 = 72\n",
      "9 X 1 = 9\n",
      "9 X 2 = 18\n",
      "9 X 3 = 27\n",
      "9 X 4 = 36\n",
      "9 X 5 = 45\n",
      "9 X 6 = 54\n",
      "9 X 7 = 63\n",
      "9 X 8 = 72\n",
      "9 X 9 = 81\n"
     ]
    }
   ],
   "source": [
    "for i in range(1,10):\n",
    "    if i != 2 and i != 5:\n",
    "        for z in range(1,10):\n",
    "            print(\"%d X %d = %d\"%(i,z,i*z))"
   ]
  },
  {
   "cell_type": "markdown",
   "id": "5a8794bd",
   "metadata": {},
   "source": [
    " ### [기본 5]\n",
    "- 다음을 하나와 반복문을 활용하여 아래의 별을 출력하는 프로그램을 작성하시오\n",
    "\n",
    "        *\n",
    "        **\n",
    "        ***\n",
    "        ****\n",
    "        *****"
   ]
  },
  {
   "cell_type": "code",
   "execution_count": 17,
   "id": "0b802d3f",
   "metadata": {},
   "outputs": [
    {
     "name": "stdout",
     "output_type": "stream",
     "text": [
      "*\n",
      "**\n",
      "***\n",
      "****\n",
      "*****\n"
     ]
    }
   ],
   "source": [
    "for i in range(1,6):\n",
    "    print(\"*\"*i)"
   ]
  },
  {
   "cell_type": "markdown",
   "id": "3dfceec3",
   "metadata": {},
   "source": [
    " ### [기본 6]\n",
    "- 다음을 하나와 반복문을 활용하여 아래의 별을 출력하는 프로그램을 작성하시오\n",
    "\n",
    "        *****\n",
    "        ****\n",
    "        ***\n",
    "        **\n",
    "        *"
   ]
  },
  {
   "cell_type": "code",
   "execution_count": 16,
   "id": "01fe3e43",
   "metadata": {},
   "outputs": [
    {
     "name": "stdout",
     "output_type": "stream",
     "text": [
      "*****\n",
      "****\n",
      "***\n",
      "**\n",
      "*\n"
     ]
    }
   ],
   "source": [
    "for i in range(5,0,-1):\n",
    "    print(\"*\"*i)"
   ]
  },
  {
   "cell_type": "markdown",
   "id": "6d4bfa10",
   "metadata": {},
   "source": [
    "### [과제 2-7]\n",
    "- array 라는 리스트에 [1,2,5,6,8,9,11,31,26,29] 를 할당하고, 입력 받은 정수가 리스트 array에 있는지 판별하여 출력하는 코드를 작성하시오."
   ]
  },
  {
   "cell_type": "code",
   "execution_count": 4,
   "id": "09b74423",
   "metadata": {},
   "outputs": [
    {
     "name": "stdout",
     "output_type": "stream",
     "text": [
      "5\n",
      "5는 array에 있습니다.\n"
     ]
    }
   ],
   "source": [
    "inp_num=int(input())\n",
    "array = [1,2,5,6,8,9,11,31,26,29]\n",
    "if inp_num in array:\n",
    "    print(\"%d는 array에 있습니다.\"%inp_num)\n",
    "else:\n",
    "    print(\"%d는 array에 없습니다.\"%inp_num)"
   ]
  },
  {
   "cell_type": "markdown",
   "id": "67370c7b",
   "metadata": {},
   "source": [
    "### [과제 2-8]\n",
    "- 2차원 평면에서 원의 중심을 나타내는 점의 좌표 및 반지름과 또 다른 한 점의 좌표를 입력 받아 이 점이 원의 내부에 있는지 판별하여 출력하는 코드를 작성하시오"
   ]
  },
  {
   "cell_type": "code",
   "execution_count": 14,
   "id": "2eb8746f",
   "metadata": {},
   "outputs": [
    {
     "name": "stdout",
     "output_type": "stream",
     "text": [
      "원의 중심 중 x좌표를 입력해주세요\n",
      "1\n",
      "원의 중심 중 y좌표를 입력해주세요\n",
      "2\n",
      "원의 반지름을 입력해주세요\n",
      "0\n",
      "찾고자하는 좌표의 x좌표를 입력해주세요\n",
      "1\n",
      "찾고자하는 좌표의 y좌표를 입력해주세요\n",
      "1\n",
      "반지름이 0인 원은 존재하지 않습니다.\n"
     ]
    }
   ],
   "source": [
    "x_center = int(input(\"원의 중심 중 x좌표를 입력해주세요\\n\"))\n",
    "y_center = int(input(\"원의 중심 중 y좌표를 입력해주세요\\n\"))\n",
    "r_circle = int(input(\"원의 반지름을 입력해주세요\\n\"))\n",
    "x_point = int(input(\"찾고자하는 좌표의 x좌표를 입력해주세요\\n\"))\n",
    "y_point = int(input(\"찾고자하는 좌표의 y좌표를 입력해주세요\\n\"))\n",
    "if r_circle!=0 :\n",
    "    if (x_point-x_center) ** 2 + (y_point-y_center) ** 2 <= r_circle ** 2:\n",
    "        print(\"(%d, %d)는 원의 내부에 해당합니다.\"%(x_point,y_point))\n",
    "    else:\n",
    "        print(\"원의 내부에서 벗어났습니다\")\n",
    "else :\n",
    "    print(\"반지름이 0인 원은 존재하지 않습니다.\")"
   ]
  },
  {
   "cell_type": "markdown",
   "id": "ea190fb6",
   "metadata": {},
   "source": [
    " "
   ]
  }
 ],
 "metadata": {
  "kernelspec": {
   "display_name": "Python 3",
   "language": "python",
   "name": "python3"
  },
  "language_info": {
   "codemirror_mode": {
    "name": "ipython",
    "version": 3
   },
   "file_extension": ".py",
   "mimetype": "text/x-python",
   "name": "python",
   "nbconvert_exporter": "python",
   "pygments_lexer": "ipython3",
   "version": "3.8.8"
  }
 },
 "nbformat": 4,
 "nbformat_minor": 5
}
