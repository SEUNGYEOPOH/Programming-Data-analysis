{
 "cells": [
  {
   "cell_type": "code",
   "execution_count": null,
   "id": "47c296d7",
   "metadata": {},
   "outputs": [],
   "source": [
    "### 작성자 : 오승엽\n",
    "### 프로그램 목적 : 실습 및 적용\n",
    "### 작성일자 : 2021-10-25"
   ]
  },
  {
   "cell_type": "markdown",
   "id": "07696866",
   "metadata": {},
   "source": [
    "## 함수 복습\n",
    "- 연산을 수행하는 객체화 된 코드\n",
    "- 자주 사용하는 연산을 객체화 시키기 유용\n",
    "- 함수는 매개변수와 리턴(반환)이 있을 수도 있고 없을 수도 있다.\n",
    "- 간결 & 생산성\n",
    "- return값는 튜플(tuple)로 반환\n",
    "- return을 만나면 결과 값을 리턴하고 함수를 종료함<br>\n",
    "<br>\n",
    "\n",
    "- 사용법<br>\n",
    "       \n",
    "       함수 정의\n",
    "       def 함수명 (매개변수):\n",
    "           return\n",
    "          \n",
    "- 정의 후 함수 사용<br>\n",
    "  함수명(인수)<br>\n",
    "  위치에 맞게 인수를 넣어 사용<br>\n",
    "  \n",
    "## 매개변수 초기값\n",
    "- 함수 정의 시 매개변수의 초기값을 미리 설정하는 것<br>\n",
    "- 함수 사용시 인수를 입력하지 않으면, 함수 정의 시 초기값으로 인수가 설정됨\n",
    "- 사용법\n",
    "\n",
    "      def 함수명 (매개변수==초기값):\n",
    "         return\n",
    "         \n",
    "## 다수 연산 값 리턴\n",
    "- 여러 값이 있는 하나의 튜플로 리턴\n",
    "\n",
    "- 사용법\n",
    "\n",
    "      def 함수명(매개변수):\n",
    "         return 값1,값2\n",
    "     \n",
    "      변수1, 변수2 ''' = 함수(인수) 또는\n",
    "      변수=함수(인수)\n",
    " \n",
    "## 가변 매개변수\n",
    "- 매개변수 개수가 정해지지 않은 함수의 경우 매개변수 앞에 *을 사용하여 가변의 매개변수를 받음, 메모리 효율성 저하\n",
    "\n",
    "      def 함수명(* 매개변수):\n",
    "- 매개변수 명은 일반적으로 *args를 많이 사용함.  \n",
    "\n",
    "\n",
    "### 지역변수(local variable)\n",
    "- 함수에서 활용하는 변수는 함수에서만 독립적으로 활용가능 -> 지역변수\n",
    "\n",
    "### 전역변수(global variable)\n",
    "- 함수 안에서 함수 밖의 변수를 다루고자 할 때 활용하며 변수명 앞에 global을 표기함\n",
    "- 함수는 독립적으로 동작하는 것이 가장 이상적이므로 전역변수는 가급적 지양\n",
    "\n",
    "### 람다(lambda)함수\n",
    "- 사용빈도가 낮고, 간결한 연산의 함수 표현 시 활용법\n",
    "- 리턴 표현이 없지만 리턴 함.\n",
    "- 사용법\n",
    "\n",
    "      함수명 = lambda 매개변수 : 리턴 값\n",
    "      mul = lambda a,b : a*b\n",
    "      result = mul(2,3)"
   ]
  },
  {
   "cell_type": "code",
   "execution_count": 13,
   "id": "173adabe",
   "metadata": {},
   "outputs": [],
   "source": [
    "# 함수 2\n",
    "# 매개변수: X, 리턴: X\n",
    "def ni_nr():\n",
    "    print(\"매개변수와 리턴이 없는 함수\")\n",
    "    pass # 껍데기"
   ]
  },
  {
   "cell_type": "code",
   "execution_count": 14,
   "id": "108ce34d",
   "metadata": {},
   "outputs": [
    {
     "name": "stdout",
     "output_type": "stream",
     "text": [
      "매개변수와 리턴이 없는 함수\n"
     ]
    }
   ],
   "source": [
    "ni_nr()"
   ]
  },
  {
   "cell_type": "code",
   "execution_count": 15,
   "id": "8fafa321",
   "metadata": {},
   "outputs": [
    {
     "name": "stdout",
     "output_type": "stream",
     "text": [
      "매개변수와 리턴이 없는 함수\n"
     ]
    },
    {
     "data": {
      "text/plain": [
       "NoneType"
      ]
     },
     "execution_count": 15,
     "metadata": {},
     "output_type": "execute_result"
    }
   ],
   "source": [
    "type(ni_nr())"
   ]
  },
  {
   "cell_type": "code",
   "execution_count": 18,
   "id": "ebf1fcd1",
   "metadata": {},
   "outputs": [
    {
     "name": "stdout",
     "output_type": "stream",
     "text": [
      "3.14\n"
     ]
    },
    {
     "data": {
      "text/plain": [
       "float"
      ]
     },
     "execution_count": 18,
     "metadata": {},
     "output_type": "execute_result"
    }
   ],
   "source": [
    "# 매개변수 x, 리턴: 3.14\n",
    "def ni_r():\n",
    "    return 3.14\n",
    "\n",
    "print(ni_r())\n",
    "type(ni_r())"
   ]
  },
  {
   "cell_type": "code",
   "execution_count": 22,
   "id": "442c6263",
   "metadata": {},
   "outputs": [
    {
     "name": "stdout",
     "output_type": "stream",
     "text": [
      "15\n",
      "9\n"
     ]
    }
   ],
   "source": [
    "# 매개변수 초기값이 있는 함수\n",
    "def triple(a=5):\n",
    "    result = a*3\n",
    "    return result\n",
    "\n",
    "print(triple()) # default 값이 5가 생김, a만 들어갈경우는 오류(인자)\n",
    "print(triple(3))"
   ]
  },
  {
   "cell_type": "code",
   "execution_count": 29,
   "id": "cba03a75",
   "metadata": {},
   "outputs": [
    {
     "name": "stdout",
     "output_type": "stream",
     "text": [
      "(5, -1, 6, 0.6666666666666666)\n",
      "<class 'tuple'>\n",
      "5 -1 6 0.6666666666666666\n",
      "(5, -1, 6, 0.6666666666666666)\n"
     ]
    }
   ],
   "source": [
    "# 다수 연산 값 리턴\n",
    "def test (a,b):\n",
    "    return a+b,a-b,a*b,a/b\n",
    "\n",
    "print(test(2,3)) # 튜플형태로 반환하므로 보여짐.\n",
    "print(type(test(2,3)))\n",
    "\n",
    "# 따로받기\n",
    "num1, num2, num3, num4 = test(2,3)\n",
    "print(num1,num2,num3,num4)\n",
    "\n",
    "#튜플로 result에 저장\n",
    "result = test(2,3)\n",
    "print(result)"
   ]
  },
  {
   "cell_type": "code",
   "execution_count": 32,
   "id": "49eeeb4c",
   "metadata": {},
   "outputs": [
    {
     "data": {
      "text/plain": [
       "36"
      ]
     },
     "execution_count": 32,
     "metadata": {},
     "output_type": "execute_result"
    }
   ],
   "source": [
    "# 가변 매개변수\n",
    "def test(*args):\n",
    "    num = 0 \n",
    "    for i in range(len(args)):\n",
    "        num += args[i]\n",
    "    return num\n",
    "\n",
    "def test(*args):\n",
    "    num = 0 \n",
    "    for i in args:\n",
    "        num += i\n",
    "    return num\n",
    "\n",
    "\n",
    "test(1,2,3,4,5,6,7,8)"
   ]
  },
  {
   "cell_type": "code",
   "execution_count": 39,
   "id": "7171ea8a",
   "metadata": {},
   "outputs": [
    {
     "name": "stdout",
     "output_type": "stream",
     "text": [
      "9\n",
      "15\n",
      "15\n"
     ]
    }
   ],
   "source": [
    "# 지역변수, 전역변수\n",
    "# 지역변수\n",
    "a = 5\n",
    "def triple(a):\n",
    "    a = a*3\n",
    "    return a\n",
    "print(triple(3))\n",
    "print(triple(a))\n",
    "a = triple(a) # 함수 바깥 a 변화\n",
    "print(a)"
   ]
  },
  {
   "cell_type": "code",
   "execution_count": 42,
   "id": "912eaab5",
   "metadata": {},
   "outputs": [
    {
     "name": "stdout",
     "output_type": "stream",
     "text": [
      "15\n",
      "15\n"
     ]
    }
   ],
   "source": [
    "# 전역변수\n",
    "a = 5\n",
    "def triple(): # 함수의 특징인 독립성을 잃어버리고 외부 a의 종속적으로 변화함.\n",
    "    global a #전역변수 a -> 5\n",
    "    a = a * 3\n",
    "    return a\n",
    "\n",
    "print(triple())\n",
    "print(a)"
   ]
  },
  {
   "cell_type": "code",
   "execution_count": 45,
   "id": "5f76fe7f",
   "metadata": {},
   "outputs": [
    {
     "name": "stdout",
     "output_type": "stream",
     "text": [
      "<class 'int'>\n"
     ]
    }
   ],
   "source": [
    "# lambda\n",
    "lala = lambda a : a*3 # 재사용이 없는 경우\n",
    "lala(3)\n",
    "print(type(lala(3)))"
   ]
  },
  {
   "cell_type": "code",
   "execution_count": null,
   "id": "470ddc2f",
   "metadata": {},
   "outputs": [],
   "source": []
  }
 ],
 "metadata": {
  "kernelspec": {
   "display_name": "Python 3",
   "language": "python",
   "name": "python3"
  },
  "language_info": {
   "codemirror_mode": {
    "name": "ipython",
    "version": 3
   },
   "file_extension": ".py",
   "mimetype": "text/x-python",
   "name": "python",
   "nbconvert_exporter": "python",
   "pygments_lexer": "ipython3",
   "version": "3.8.8"
  }
 },
 "nbformat": 4,
 "nbformat_minor": 5
}
