{
 "cells": [
  {
   "cell_type": "code",
   "execution_count": null,
   "id": "55077edd",
   "metadata": {},
   "outputs": [],
   "source": [
    "### 작성일자 : 2021-11-22\n",
    "### 작성자 : 오승엽\n",
    "### 작성목적 : 실습 및 적용"
   ]
  },
  {
   "cell_type": "markdown",
   "id": "57c8aef7",
   "metadata": {},
   "source": [
    "## class\n",
    "- object 생성이 가능한 설계도 \n",
    "- 클래스를 바탕으로 해당 클래스의 객체인 인스턴스를 생성할 수 있음<br>\n",
    "    ex class a (): -> test = a() test가 a의 인스턴스\n",
    "    \n",
    "methods, variable로 구성\n",
    "- 메소드 : 클래스에서 정의 된 함수\n",
    "- 변수 : 객체 변수(주로 활용, 객체 별 독립), 클래스 변수(해당 클래스의 객체 전체가 공유함)"
   ]
  },
  {
   "cell_type": "markdown",
   "id": "ca797b36",
   "metadata": {},
   "source": [
    "사용법\n",
    "\n",
    "     class 클래스 명 :\n",
    "     def __init__(self,매개변수):\n",
    "         self.매개변수 = 매개변수\n",
    "         #__init__ 메소드는 생성자\n",
    "         \n",
    "     def 메소드명(self):\n",
    "         # 메소드 정의\n",
    "         \n",
    "     클래스 변수명 = 변수값\n",
    "     \n",
    "     \n",
    "     객체 생성\n",
    "         객체명 = 클래스명(매개변수)\n",
    "         객체명.메소드명() # 메소드 활용\n",
    "     \n",
    "     클래스변수 사용법:\n",
    "         클래스명.클래스변수\n",
    "         객체명.클래스변수"
   ]
  },
  {
   "cell_type": "markdown",
   "id": "0fe02c2d",
   "metadata": {},
   "source": [
    "## 상속\n",
    "- B 클래스가 A클래스로부터 상속 받았다면, A 클래스를 부모 클래스 또는 슈퍼 클래스, B 클래스를 자식클래스 또는 서브 클래스라 함.\n",
    "- 자식 클래스는 부모 클래스의 메소드와 변수를 받아 사용\n",
    "- 자식 클래스에서 부모 클래스에서 사용한 메소드 명을 다시 정의하여 사용하는 경우 오버라이딩이라고 하며, 자식 객체에서 메소드 사용 시 자식 클래스에서 정의 된 메소드가 사용됨.\n",
    "\n",
    "      사용법\n",
    "      class 클래스명(상속 받을 클래스명):\n",
    "          # 클래스 정의\n",
    "     "
   ]
  },
  {
   "cell_type": "markdown",
   "id": "17bd4b74",
   "metadata": {},
   "source": [
    "## __ init __ 없이"
   ]
  },
  {
   "cell_type": "code",
   "execution_count": 23,
   "id": "a9339632",
   "metadata": {},
   "outputs": [
    {
     "data": {
      "text/plain": [
       "10"
      ]
     },
     "execution_count": 23,
     "metadata": {},
     "output_type": "execute_result"
    }
   ],
   "source": [
    "class GcdLcm:\n",
    "    def gcd(num1,num2):\n",
    "        for i in range(num1,0,-1):\n",
    "            if num1%i==0 and num2%i==0:\n",
    "                return i\n",
    "                break\n",
    "                \n",
    "    def lcm(num1,num2):\n",
    "        real=num1<num2\n",
    "        if real:\n",
    "            for i in range(num2,num1*num2+1):\n",
    "                if i%num1==0 and i%num2==0:\n",
    "                    return i\n",
    "        else:\n",
    "            for i in range(num1,num1*num2+1):\n",
    "                if i%num1==0 and i%num2==0:\n",
    "                    return i\n",
    "\n",
    "a=GcdLcm\n",
    "a.lcm(5,10)"
   ]
  },
  {
   "cell_type": "markdown",
   "id": "7499d48f",
   "metadata": {},
   "source": [
    "## __ init __ 추가"
   ]
  },
  {
   "cell_type": "code",
   "execution_count": 30,
   "id": "02725123",
   "metadata": {},
   "outputs": [
    {
     "data": {
      "text/plain": [
       "6"
      ]
     },
     "execution_count": 30,
     "metadata": {},
     "output_type": "execute_result"
    }
   ],
   "source": [
    "class GcdLcm:\n",
    "    def __init__(self,num1,num2):\n",
    "        self.num1=num1\n",
    "        self.num2=num2\n",
    "    \n",
    "    def gcd(self):\n",
    "        for i in range(self.num1,0,-1):\n",
    "            if self.num1%i==0 and self.num2%i==0:\n",
    "                return i\n",
    "                break\n",
    "                \n",
    "    def lcm(self):\n",
    "        real=self.num1<self.num2\n",
    "        if real:\n",
    "            for i in range(self.num2,self.num1*self.num2+1):\n",
    "                if i%self.num1==0 and i%self.num2==0:\n",
    "                    return i\n",
    "        else:\n",
    "            for i in range(self.num1,self.num1*self.num2+1):\n",
    "                if i%self.num1==0 and i%self.num2==0:\n",
    "                    return i\n",
    "\n",
    "a=GcdLcm(12,6)\n",
    "a.gcd()"
   ]
  },
  {
   "cell_type": "markdown",
   "id": "f6cb6ce6",
   "metadata": {},
   "source": [
    "## best"
   ]
  },
  {
   "cell_type": "code",
   "execution_count": 35,
   "id": "c0c82435",
   "metadata": {},
   "outputs": [
    {
     "name": "stdout",
     "output_type": "stream",
     "text": [
      "5\n",
      "10\n"
     ]
    },
    {
     "data": {
      "text/plain": [
       "10"
      ]
     },
     "execution_count": 35,
     "metadata": {},
     "output_type": "execute_result"
    }
   ],
   "source": [
    "class GcdLcm:\n",
    "    def __init__(self,num1,num2):\n",
    "        self.num1=num1\n",
    "        self.num2=num2\n",
    "        \n",
    "    def gcd(self):\n",
    "        gcd_num=max([i for i in range(1,self.num1+1) if self.num1%i==0 and self.num2%i==0])\n",
    "        return gcd_num\n",
    "    def lcm(self):\n",
    "        lcm_num=min([z for z in range(1,self.num1*self.num2+1) if z%self.num1==0 and z%self.num2==0])\n",
    "        return lcm_num\n",
    "    \n",
    "a=GcdLcm(int(input()),int(input()))\n",
    "a.lcm()"
   ]
  },
  {
   "cell_type": "markdown",
   "id": "3c2aa48e",
   "metadata": {},
   "source": [
    "## 모듈 (module)\n",
    "- 클래스, 함수, 변수 등이 포함될 수 있는 파이썬 파일\n",
    "- 종류\n",
    "        \n",
    "      1. 표준\n",
    "      2. 서드 파티\n",
    "      3. 사용자 정의\n",
    "      \n",
    "      import module\n",
    "      -> module.def\n",
    "      import module from PKG\n",
    "      -> module.def\n",
    "      from module import def\n",
    "      -> def\n",
    "      from PKG.module import def\n",
    "      -> def\n",
    "      \n",
    "      module.def()\n",
    "      module.변수\n",
    "      객체 = module.class()\n",
    "      \n",
    "- 사용법\n",
    "    \n",
    "      1. module인 파이썬(.py)을 같은 폴더에 둘 것\n",
    "      2. 주피터 노트북 파일은 .py 확장자로 변환\n",
    "      3. if__name__=='__main__':\n",
    "          # 임포트 시에는 실행하지 않고.\n",
    "          # 모듈 파일 직접 실행 시만 실행.\n",
    "      \n",
    "      \n",
    "      "
   ]
  },
  {
   "cell_type": "code",
   "execution_count": 2,
   "id": "9909cc9e",
   "metadata": {},
   "outputs": [
    {
     "name": "stdout",
     "output_type": "stream",
     "text": [
      "6\n",
      "12\n"
     ]
    }
   ],
   "source": [
    "import gcdlcm as gl\n",
    "a = gl.GcdLcm(12,6)\n",
    "print(a.gcd())\n",
    "print(a.lcm())\n"
   ]
  },
  {
   "cell_type": "code",
   "execution_count": 5,
   "id": "1c5da791",
   "metadata": {},
   "outputs": [
    {
     "name": "stdout",
     "output_type": "stream",
     "text": [
      "6\n",
      "12\n"
     ]
    }
   ],
   "source": [
    "from gcdlcm import GcdLcm\n",
    "\n",
    "a= GcdLcm(12,6)\n",
    "print(a.gcd())\n",
    "print(a.lcm())"
   ]
  }
 ],
 "metadata": {
  "kernelspec": {
   "display_name": "Python 3",
   "language": "python",
   "name": "python3"
  },
  "language_info": {
   "codemirror_mode": {
    "name": "ipython",
    "version": 3
   },
   "file_extension": ".py",
   "mimetype": "text/x-python",
   "name": "python",
   "nbconvert_exporter": "python",
   "pygments_lexer": "ipython3",
   "version": "3.8.8"
  }
 },
 "nbformat": 4,
 "nbformat_minor": 5
}
