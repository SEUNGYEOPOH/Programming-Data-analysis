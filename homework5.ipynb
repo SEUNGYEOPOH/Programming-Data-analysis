{
 "cells": [
  {
   "cell_type": "markdown",
   "id": "171a2b45",
   "metadata": {},
   "source": [
    "## [과제 5-1]"
   ]
  },
  {
   "cell_type": "code",
   "execution_count": 6,
   "id": "3d3889ee",
   "metadata": {},
   "outputs": [
    {
     "name": "stdout",
     "output_type": "stream",
     "text": [
      "496\n"
     ]
    },
    {
     "data": {
      "text/plain": [
       "1"
      ]
     },
     "execution_count": 6,
     "metadata": {},
     "output_type": "execute_result"
    }
   ],
   "source": [
    "def perfect(n):\n",
    "    array =[i for i in range(1,n) if n%i==0]\n",
    "    if sum(set(array))==n:\n",
    "        return 1\n",
    "    else :\n",
    "        return 0\n",
    "\n",
    "perfect(int(input()))"
   ]
  },
  {
   "cell_type": "markdown",
   "id": "a939edab",
   "metadata": {},
   "source": [
    "## [과제 5-2]"
   ]
  },
  {
   "cell_type": "code",
   "execution_count": 17,
   "id": "9d085d20",
   "metadata": {},
   "outputs": [
    {
     "name": "stdout",
     "output_type": "stream",
     "text": [
      "10\n"
     ]
    },
    {
     "data": {
      "text/plain": [
       "2"
      ]
     },
     "execution_count": 17,
     "metadata": {},
     "output_type": "execute_result"
    }
   ],
   "source": [
    "def rice(n):\n",
    "    count=0\n",
    "    if n%5==0:\n",
    "        return n//5\n",
    "    else :\n",
    "        while True:\n",
    "            n=n-3\n",
    "            count+=1\n",
    "            if n%5==0:\n",
    "                return count+n//5\n",
    "                \n",
    "            if n<=0:\n",
    "                return -1\n",
    "               \n",
    "                \n",
    "rice(int(input()))   "
   ]
  }
 ],
 "metadata": {
  "kernelspec": {
   "display_name": "Python 3",
   "language": "python",
   "name": "python3"
  },
  "language_info": {
   "codemirror_mode": {
    "name": "ipython",
    "version": 3
   },
   "file_extension": ".py",
   "mimetype": "text/x-python",
   "name": "python",
   "nbconvert_exporter": "python",
   "pygments_lexer": "ipython3",
   "version": "3.8.8"
  }
 },
 "nbformat": 4,
 "nbformat_minor": 5
}
