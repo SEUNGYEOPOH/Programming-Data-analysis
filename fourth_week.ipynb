{
 "cells": [
  {
   "cell_type": "code",
   "execution_count": 2,
   "id": "35b8fb9d",
   "metadata": {},
   "outputs": [
    {
     "name": "stdout",
     "output_type": "stream",
     "text": [
      "5\n"
     ]
    }
   ],
   "source": [
    "# 작성자:오승엽\n",
    "# 작성일자:2021-09-30\n",
    "# 작성목적:실습"
   ]
  },
  {
   "cell_type": "code",
   "execution_count": 4,
   "id": "13aa32f4",
   "metadata": {},
   "outputs": [
    {
     "name": "stdout",
     "output_type": "stream",
     "text": [
      "a는 3보다 크다\n",
      "True\n",
      "<class 'bool'>\n"
     ]
    }
   ],
   "source": [
    "# 조건문 \n",
    "# if문\n",
    "\n",
    "a=5\n",
    "if a>3:\n",
    "    print(\"a는 3보다 크다\")\n",
    "\n",
    "print(a>3)\n",
    "print(type(a>3))"
   ]
  },
  {
   "cell_type": "code",
   "execution_count": 7,
   "id": "c4c102cf",
   "metadata": {},
   "outputs": [
    {
     "name": "stdout",
     "output_type": "stream",
     "text": [
      "False\n",
      "a<b | a==b\n"
     ]
    }
   ],
   "source": [
    "# else 문\n",
    "a = 3\n",
    "b = 5\n",
    "print(a>b)\n",
    "\n",
    "if a>b:\n",
    "    print(\"a>b\")\n",
    "else:\n",
    "    print(\"a<b | a==b\")"
   ]
  },
  {
   "cell_type": "code",
   "execution_count": 8,
   "id": "0c47b3d2",
   "metadata": {},
   "outputs": [
    {
     "name": "stdout",
     "output_type": "stream",
     "text": [
      "a<b\n"
     ]
    }
   ],
   "source": [
    "# elif 문\n",
    "a = 3\n",
    "b = 5\n",
    "if a>b:\n",
    "    print(\"a>b\")\n",
    "elif a<b:\n",
    "    print(\"a<b\")\n",
    "elif a==b:\n",
    "    print(\"a==b\")"
   ]
  },
  {
   "cell_type": "code",
   "execution_count": 9,
   "id": "32430cfc",
   "metadata": {},
   "outputs": [
    {
     "name": "stdout",
     "output_type": "stream",
     "text": [
      "항상 실행\n",
      "항상 실행\n"
     ]
    }
   ],
   "source": [
    "if True:\n",
    "    print(\"항상 실행\")\n",
    "    \n",
    "print(\"항상 실행\")\n",
    "\n",
    "if False:\n",
    "    print(\"항상 실행 불가\") # 없는 code와 동일함"
   ]
  },
  {
   "cell_type": "code",
   "execution_count": 11,
   "id": "ad58769a",
   "metadata": {},
   "outputs": [
    {
     "name": "stdout",
     "output_type": "stream",
     "text": [
      "c가 가장 큽니다\n",
      "a가 가장 작습니다.\n"
     ]
    }
   ],
   "source": [
    "# 중접된 if문\n",
    "a=1\n",
    "b=2\n",
    "c=3\n",
    "if a<b:\n",
    "    if b<c:\n",
    "        print(\"c가 가장 큽니다.\")\n",
    "\n",
    "if a<b and b<c:\n",
    "    print(\"a가 가장 작습니다.\")"
   ]
  },
  {
   "cell_type": "code",
   "execution_count": 13,
   "id": "f25a9004",
   "metadata": {},
   "outputs": [
    {
     "name": "stdout",
     "output_type": "stream",
     "text": [
      "a>=b\n",
      "a>=b\n",
      "a==b\n"
     ]
    }
   ],
   "source": [
    "# if문과 elif문의 차이점\n",
    "a = 1\n",
    "b = 1\n",
    "if a>=b:\n",
    "    print(\"a>=b\")\n",
    "elif a==b:\n",
    "    print(\"a==b\") \n",
    "# elif문은 앞선 if문의 의존적임. \n",
    "\n",
    "if a>=b:\n",
    "    print(\"a>=b\")\n",
    "if a==b:\n",
    "    print(\"a==b\")\n",
    "# 각 if문의 독립적으로 조건이 참이라면 각각의 if문 실행."
   ]
  },
  {
   "cell_type": "code",
   "execution_count": 21,
   "id": "85e23355",
   "metadata": {},
   "outputs": [
    {
     "name": "stdout",
     "output_type": "stream",
     "text": [
      "1\n",
      "2\n",
      "3\n",
      "4\n",
      "5\n",
      "6\n",
      "7\n",
      "8\n",
      "9\n",
      "10\n"
     ]
    }
   ],
   "source": [
    "# 파이썬 반복문\n",
    "# for 문\n",
    "# 지정한 반복 횟수 -> for 제격\n",
    "# 주어진 조건이 만족- > while 제격\n",
    "# 파이썬 반복문\n",
    "for i in range(1,11):\n",
    "    print(i)"
   ]
  },
  {
   "cell_type": "code",
   "execution_count": 22,
   "id": "288c9b9c",
   "metadata": {},
   "outputs": [
    {
     "name": "stdout",
     "output_type": "stream",
     "text": [
      "1\n",
      "2\n",
      "3\n",
      "4\n",
      "5\n",
      "6\n",
      "7\n",
      "8\n",
      "9\n",
      "10\n"
     ]
    }
   ],
   "source": [
    "for i in [1,2,3,4,5,6,7,8,9,10]:\n",
    "    print(i)"
   ]
  },
  {
   "cell_type": "code",
   "execution_count": 2,
   "id": "cf5391d6",
   "metadata": {},
   "outputs": [
    {
     "name": "stdout",
     "output_type": "stream",
     "text": [
      "1\n",
      "2\n",
      "3\n",
      "4\n",
      "5\n",
      "6\n",
      "7\n",
      "8\n",
      "9\n",
      "10\n"
     ]
    }
   ],
   "source": [
    "a=[1,2,3,4,5,6,7,8,9,10]\n",
    "for i in range(len(a)):\n",
    "    print(a[i])"
   ]
  },
  {
   "cell_type": "code",
   "execution_count": 3,
   "id": "39a56e38",
   "metadata": {},
   "outputs": [
    {
     "name": "stdout",
     "output_type": "stream",
     "text": [
      "Python\n",
      "R\n",
      "Java\n"
     ]
    }
   ],
   "source": [
    "for language in ['Python','R','Java']:\n",
    "    print(language)"
   ]
  },
  {
   "cell_type": "code",
   "execution_count": 7,
   "id": "f0962426",
   "metadata": {},
   "outputs": [
    {
     "name": "stdout",
     "output_type": "stream",
     "text": [
      "1\n",
      "2\n",
      "3\n",
      "4\n",
      "5\n",
      "6\n",
      "7\n",
      "8\n",
      "9\n",
      "10\n",
      "2\n",
      "3\n",
      "4\n",
      "5\n",
      "6\n",
      "7\n",
      "8\n",
      "9\n",
      "10\n",
      "11\n"
     ]
    }
   ],
   "source": [
    "# while 문\n",
    "i=1\n",
    "z=1\n",
    "while i<=10:\n",
    "    print(i)\n",
    "    i=i+1\n",
    "    \n",
    "while z<=10:\n",
    "    z=z+1\n",
    "    print(z)\n",
    "    \n",
    "# 증감연산자 위치에따라 값이 달라짐"
   ]
  },
  {
   "cell_type": "code",
   "execution_count": 9,
   "id": "01db979f",
   "metadata": {},
   "outputs": [
    {
     "name": "stdout",
     "output_type": "stream",
     "text": [
      "1\n",
      "2\n",
      "3\n",
      "4\n",
      "5\n",
      "6\n",
      "7\n",
      "8\n",
      "9\n",
      "10\n"
     ]
    }
   ],
   "source": [
    "i = 1\n",
    "while i<=10:\n",
    "    print(i)\n",
    "    i+=1"
   ]
  },
  {
   "cell_type": "code",
   "execution_count": 12,
   "id": "26aba35f",
   "metadata": {},
   "outputs": [],
   "source": [
    "# 무한 LOOP\n",
    "#I=1\n",
    "#while i<=10:\n",
    "    #print(i) \n",
    "    "
   ]
  },
  {
   "cell_type": "code",
   "execution_count": null,
   "id": "b4c56cf1",
   "metadata": {},
   "outputs": [],
   "source": []
  }
 ],
 "metadata": {
  "kernelspec": {
   "display_name": "Python 3",
   "language": "python",
   "name": "python3"
  },
  "language_info": {
   "codemirror_mode": {
    "name": "ipython",
    "version": 3
   },
   "file_extension": ".py",
   "mimetype": "text/x-python",
   "name": "python",
   "nbconvert_exporter": "python",
   "pygments_lexer": "ipython3",
   "version": "3.8.8"
  }
 },
 "nbformat": 4,
 "nbformat_minor": 5
}
