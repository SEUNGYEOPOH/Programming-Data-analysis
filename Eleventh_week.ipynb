{
 "cells": [
  {
   "cell_type": "markdown",
   "id": "188c515c",
   "metadata": {},
   "source": [
    "## 모듈\n",
    "- 종류\n",
    "\n",
    "      표준 -> math\n",
    "      서드파티 -> pip install (pandas, numpy 등)\n",
    "      사용자 정의 -> customize\n",
    "\n",
    "## 패키지\n",
    "- 모듈 및 하위 패키지에 대해서 디렉토리 형태의 계측적 관리가 가능한 묶음 \n",
    "- 구성  \n",
    "\n",
    "      패키지 폴더, 모듈, __init__.py\n",
    "      __all__ = ['모듈명',''']"
   ]
  },
  {
   "cell_type": "code",
   "execution_count": 2,
   "id": "df3aaa6d",
   "metadata": {
    "scrolled": true
   },
   "outputs": [
    {
     "name": "stdout",
     "output_type": "stream",
     "text": [
      "6\n",
      "12\n"
     ]
    }
   ],
   "source": [
    "from testpack.gcdlcm import GcdLcm\n",
    "a=GcdLcm(12,6)\n",
    "print(a.gcd())\n",
    "print(a.lcm())"
   ]
  },
  {
   "cell_type": "code",
   "execution_count": 3,
   "id": "7552525d",
   "metadata": {},
   "outputs": [
    {
     "name": "stdout",
     "output_type": "stream",
     "text": [
      "2\n",
      "3\n",
      "5\n",
      "7\n",
      "11\n",
      "13\n",
      "17\n",
      "19\n",
      "23\n",
      "29\n",
      "31\n",
      "37\n",
      "41\n",
      "43\n",
      "47\n",
      "53\n",
      "59\n",
      "61\n",
      "67\n",
      "71\n",
      "73\n",
      "79\n",
      "83\n",
      "89\n",
      "97\n"
     ]
    }
   ],
   "source": [
    "from testpack.prime import prime_print\n",
    "prime_print(100)"
   ]
  }
 ],
 "metadata": {
  "kernelspec": {
   "display_name": "Python 3",
   "language": "python",
   "name": "python3"
  },
  "language_info": {
   "codemirror_mode": {
    "name": "ipython",
    "version": 3
   },
   "file_extension": ".py",
   "mimetype": "text/x-python",
   "name": "python",
   "nbconvert_exporter": "python",
   "pygments_lexer": "ipython3",
   "version": "3.8.8"
  }
 },
 "nbformat": 4,
 "nbformat_minor": 5
}
