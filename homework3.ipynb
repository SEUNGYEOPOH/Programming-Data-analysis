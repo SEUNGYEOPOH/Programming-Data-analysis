{
 "cells": [
  {
   "cell_type": "markdown",
   "id": "bbfc8162",
   "metadata": {},
   "source": [
    "### 과제 [3-1]"
   ]
  },
  {
   "cell_type": "code",
   "execution_count": 10,
   "id": "602cae5b",
   "metadata": {},
   "outputs": [
    {
     "name": "stdout",
     "output_type": "stream",
     "text": [
      "5\n",
      "10\n"
     ]
    },
    {
     "data": {
      "text/plain": [
       "5"
      ]
     },
     "execution_count": 10,
     "metadata": {},
     "output_type": "execute_result"
    }
   ],
   "source": [
    "def gcd(a,b):\n",
    "    for i in range(a,0,-1):\n",
    "        if a%i==0 and b%i==0:\n",
    "            return i\n",
    "            break\n",
    "gcd(int(input()),int(input()))"
   ]
  },
  {
   "cell_type": "markdown",
   "id": "352aa1d1",
   "metadata": {},
   "source": [
    "### 과제 [3-2]"
   ]
  },
  {
   "cell_type": "code",
   "execution_count": 11,
   "id": "a64a9d3b",
   "metadata": {},
   "outputs": [
    {
     "name": "stdout",
     "output_type": "stream",
     "text": [
      "5\n",
      "10\n",
      "5와 10의 최대공약수는 : 5\n"
     ]
    }
   ],
   "source": [
    "def gcd(a,b):\n",
    "    for i in range(a,0,-1):\n",
    "        if a%i==0 and b%i==0:\n",
    "            print(\"%d와 %d의 최대공약수는 : %d\"%(a,b,i))\n",
    "            break\n",
    "gcd(int(input()),int(input()))\n"
   ]
  },
  {
   "cell_type": "markdown",
   "id": "19ca8b1c",
   "metadata": {},
   "source": [
    "### 과제 [3-3]"
   ]
  },
  {
   "cell_type": "code",
   "execution_count": 22,
   "id": "7c10f82d",
   "metadata": {},
   "outputs": [
    {
     "name": "stdout",
     "output_type": "stream",
     "text": [
      "30 \n",
      "50\n"
     ]
    },
    {
     "data": {
      "text/plain": [
       "150"
      ]
     },
     "execution_count": 22,
     "metadata": {},
     "output_type": "execute_result"
    }
   ],
   "source": [
    "def lcm(a,b):\n",
    "    for i in range(a,a*b+1):\n",
    "        if i%a==0 and i%b==0:\n",
    "            return i\n",
    "            break\n",
    "lcm(int(input()),int(input()))"
   ]
  },
  {
   "cell_type": "markdown",
   "id": "669749f9",
   "metadata": {},
   "source": [
    "### 과제 [3-4]"
   ]
  },
  {
   "cell_type": "code",
   "execution_count": 12,
   "id": "ca8657ae",
   "metadata": {},
   "outputs": [
    {
     "name": "stdout",
     "output_type": "stream",
     "text": [
      "5\n",
      "10\n",
      "5와 10의 최소공배수는 : 10\n"
     ]
    }
   ],
   "source": [
    "def lcm(a,b):\n",
    "    for i in range(1,a*b+1):\n",
    "        if i%a==0 and i%b==0:\n",
    "            print(\"%d와 %d의 최소공배수는 : %d\"%(a,b,i))\n",
    "            break\n",
    "lcm(int(input()),int(input()))"
   ]
  },
  {
   "cell_type": "markdown",
   "id": "2feb77d7",
   "metadata": {},
   "source": [
    "### 과제 [3-5]"
   ]
  },
  {
   "cell_type": "code",
   "execution_count": 13,
   "id": "20cf7b8c",
   "metadata": {},
   "outputs": [
    {
     "name": "stdout",
     "output_type": "stream",
     "text": [
      "2이상의 양의 정수를 입력해주세요 : 100\n"
     ]
    },
    {
     "data": {
      "text/plain": [
       "[2,\n",
       " 3,\n",
       " 5,\n",
       " 7,\n",
       " 11,\n",
       " 13,\n",
       " 17,\n",
       " 19,\n",
       " 23,\n",
       " 29,\n",
       " 31,\n",
       " 37,\n",
       " 41,\n",
       " 43,\n",
       " 47,\n",
       " 53,\n",
       " 59,\n",
       " 61,\n",
       " 67,\n",
       " 71,\n",
       " 73,\n",
       " 79,\n",
       " 83,\n",
       " 89,\n",
       " 97]"
      ]
     },
     "execution_count": 13,
     "metadata": {},
     "output_type": "execute_result"
    }
   ],
   "source": [
    "def prime(a):\n",
    "    prime_list=[]\n",
    "    for i in range(2,a+1):\n",
    "        count=0\n",
    "        for z in range(1,i+1):\n",
    "            if i%z==0:\n",
    "                count+=1\n",
    "        if count==2:\n",
    "            prime_list.append(i)\n",
    "    return prime_list\n",
    "    \n",
    "    \n",
    "prime(int(input(\"2이상의 양의 정수를 입력해주세요 : \")))"
   ]
  },
  {
   "cell_type": "markdown",
   "id": "ded9b42b",
   "metadata": {},
   "source": [
    "### 과제 [3-6]"
   ]
  },
  {
   "cell_type": "code",
   "execution_count": 19,
   "id": "a680b282",
   "metadata": {},
   "outputs": [
    {
     "name": "stdout",
     "output_type": "stream",
     "text": [
      "양의 정수를 입력해주세요 : 8\n",
      "8는 소수가 아닙니다\n"
     ]
    }
   ],
   "source": [
    "def prime_tester(a):\n",
    "    count=0\n",
    "    for i in range(1,a+1):\n",
    "        if a%i==0:\n",
    "            count+=1\n",
    "    if count==2:\n",
    "        print(\"%d는 소수입니다.\"%i)\n",
    "    else :\n",
    "        print(\"%d는 소수가 아닙니다\"%i)\n",
    "prime_tester(int(input(\"양의 정수를 입력해주세요 : \")))"
   ]
  },
  {
   "cell_type": "markdown",
   "id": "c436af66",
   "metadata": {},
   "source": [
    "### 과제 [3-7]"
   ]
  },
  {
   "cell_type": "code",
   "execution_count": 3,
   "id": "81b4d39c",
   "metadata": {},
   "outputs": [
    {
     "name": "stdout",
     "output_type": "stream",
     "text": [
      "*oooo\n",
      "**ooo\n",
      "***oo\n",
      "****o\n",
      "*****\n",
      "****o\n",
      "***oo\n",
      "**ooo\n",
      "*oooo\n"
     ]
    }
   ],
   "source": [
    "for i in range(1,6):\n",
    "    for z in range(0,i):\n",
    "        print(\"*\",end=\"\")\n",
    "    for q in range(5-i,0,-1):\n",
    "        print(\"o\",end=\"\")\n",
    "    print()\n",
    "    \n",
    "for i in range(4,0,-1):\n",
    "    for z in range(i):\n",
    "        print(\"*\",end=\"\")\n",
    "    for q in range(0,5-i):\n",
    "        print(\"o\",end=\"\")\n",
    "    print()"
   ]
  },
  {
   "cell_type": "markdown",
   "id": "4c41e131",
   "metadata": {},
   "source": [
    "### 과제 [3-8] "
   ]
  },
  {
   "cell_type": "code",
   "execution_count": 24,
   "id": "9af3470d",
   "metadata": {
    "scrolled": true
   },
   "outputs": [
    {
     "name": "stdout",
     "output_type": "stream",
     "text": [
      "데이터를 입력해주세요. : 1 2 3 4 5\n"
     ]
    },
    {
     "data": {
      "text/plain": [
       "(3.0, 1.5811388300841898, 5, 1, 5)"
      ]
     },
     "execution_count": 24,
     "metadata": {},
     "output_type": "execute_result"
    }
   ],
   "source": [
    "def cal(num_list):\n",
    "    array=[]\n",
    "    result=0\n",
    "    result_2=0\n",
    "    \n",
    "    ## 합계 result\n",
    "    for i in range(len(num_list)):\n",
    "        result=result+num_list[i]\n",
    "    \n",
    "    ## 평균\n",
    "    mean = result/len(num_list)\n",
    "    \n",
    "    ## array에 편차 제곱을 저장\n",
    "    for z in range(len(num_list)):\n",
    "        array.append((num_list[z]-mean)**2)\n",
    "        \n",
    "    # 편차 제곱의 합\n",
    "    for q in range(len(array)):\n",
    "        result_2=result_2+array[q]\n",
    "        \n",
    "    # 편차 제곱의 합을 n-1으로 나눔 -> 표본 분산 / 표본 분산의 제곱근 -> 표본의 표준편차\n",
    "    std = (result_2/(len(num_list)-1))**(1/2)\n",
    "    \n",
    "    return mean, std ,max(num_list), min(num_list), len(num_list)\n",
    "\n",
    "    \n",
    "cal(list(map(int,input(\"데이터를 입력해주세요. : \").split())))\n"
   ]
  },
  {
   "cell_type": "code",
   "execution_count": null,
   "id": "9be16d0d",
   "metadata": {},
   "outputs": [],
   "source": []
  }
 ],
 "metadata": {
  "kernelspec": {
   "display_name": "Python 3",
   "language": "python",
   "name": "python3"
  },
  "language_info": {
   "codemirror_mode": {
    "name": "ipython",
    "version": 3
   },
   "file_extension": ".py",
   "mimetype": "text/x-python",
   "name": "python",
   "nbconvert_exporter": "python",
   "pygments_lexer": "ipython3",
   "version": "3.8.8"
  }
 },
 "nbformat": 4,
 "nbformat_minor": 5
}
