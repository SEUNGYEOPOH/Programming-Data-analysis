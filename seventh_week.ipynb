{
 "cells": [
  {
   "cell_type": "code",
   "execution_count": 2,
   "id": "d4c732ef",
   "metadata": {
    "ExecuteTime": {
     "end_time": "2021-10-26T11:37:26.026799Z",
     "start_time": "2021-10-26T11:37:26.022786Z"
    }
   },
   "outputs": [],
   "source": [
    "### 작성자 : 오승엽\n",
    "### 작성일자 : 2021-10-26\n",
    "### 작성목적 : 실습 및 적용"
   ]
  },
  {
   "cell_type": "markdown",
   "id": "f0778c41",
   "metadata": {},
   "source": [
    "###  두 양의 정수를 매개 변수로 받아서 두 수의 최대공약수를 리턴하는 함수를 만드시오. "
   ]
  },
  {
   "cell_type": "code",
   "execution_count": 7,
   "id": "4ae2d65a",
   "metadata": {
    "ExecuteTime": {
     "end_time": "2021-10-26T11:43:59.238696Z",
     "start_time": "2021-10-26T11:43:57.967128Z"
    }
   },
   "outputs": [
    {
     "name": "stdout",
     "output_type": "stream",
     "text": [
      "첫 번째 정수 입력 : 6\n",
      "두 번째 정수 입력 :12\n"
     ]
    },
    {
     "data": {
      "text/plain": [
       "6"
      ]
     },
     "execution_count": 7,
     "metadata": {},
     "output_type": "execute_result"
    }
   ],
   "source": [
    "def ma(num1,num2):\n",
    "    box=0\n",
    "    for i in range(1,num2+1):\n",
    "        if num1%i==0 and num2%i==0:\n",
    "            box=i\n",
    "    return box\n",
    "ma(int(input(\"첫 번째 정수 입력 : \")),int(input(\"두 번째 정수 입력 :\")))"
   ]
  },
  {
   "cell_type": "markdown",
   "id": "3de55843",
   "metadata": {},
   "source": [
    "### 두 양의 정수를 매개 변수로 받아서 두 수의 최대공약수를 출력하시는 함수를 만드시오"
   ]
  },
  {
   "cell_type": "code",
   "execution_count": null,
   "id": "e42c1c32",
   "metadata": {},
   "outputs": [],
   "source": [
    "def ma(num1,num2):\n",
    "    num_arr=[]\n",
    "    for i in range(1,num2+1):\n",
    "        if num1%i==0 and num2%i==0:\n",
    "            num_arr.append(i)\n",
    "    print(num_arr[-1])\n",
    "ma(int(input(\"첫 번째 정수 입력 : \")),int(input(\"두 번째 정수 입력 :\")))"
   ]
  },
  {
   "cell_type": "markdown",
   "id": "bb805bd7",
   "metadata": {
    "ExecuteTime": {
     "end_time": "2021-10-26T11:37:55.898165Z",
     "start_time": "2021-10-26T11:37:55.851263Z"
    }
   },
   "source": [
    "###  두 양의 정수를 매개 변수로 받아서 두 수의 최소공배수를 리턴하는 함수를 만드시오. "
   ]
  },
  {
   "cell_type": "code",
   "execution_count": 16,
   "id": "5305579f",
   "metadata": {
    "ExecuteTime": {
     "end_time": "2021-10-26T11:49:15.773116Z",
     "start_time": "2021-10-26T11:49:14.750705Z"
    }
   },
   "outputs": [
    {
     "name": "stdout",
     "output_type": "stream",
     "text": [
      "첫 번째 정수 입력 : 12\n",
      "두 번째 정수 입력 : 6\n"
     ]
    },
    {
     "data": {
      "text/plain": [
       "12"
      ]
     },
     "execution_count": 16,
     "metadata": {},
     "output_type": "execute_result"
    }
   ],
   "source": [
    "def mi(num1,num2):\n",
    "    box=0\n",
    "    for z in range(1,(num1*num2)+1):\n",
    "        if z%num1==0 and z%num2==0:\n",
    "            box=z\n",
    "            break\n",
    "    return box\n",
    "mi(int(input(\"첫 번째 정수 입력 : \")),int(input(\"두 번째 정수 입력 : \")))"
   ]
  },
  {
   "cell_type": "markdown",
   "id": "92a80cc2",
   "metadata": {},
   "source": [
    "### 두 양의 정수를 매개 변수로 받아서 두 수의 최소공배수를 출력하는 함수를 만드시오."
   ]
  },
  {
   "cell_type": "code",
   "execution_count": 18,
   "id": "264b8857",
   "metadata": {
    "ExecuteTime": {
     "end_time": "2021-10-26T11:50:13.412989Z",
     "start_time": "2021-10-26T11:50:11.850837Z"
    }
   },
   "outputs": [
    {
     "name": "stdout",
     "output_type": "stream",
     "text": [
      "첫 번째 정수 입력 : 12\n",
      "두 번째 정수 입력 : 6\n",
      "12\n"
     ]
    }
   ],
   "source": [
    "def mi(num1,num2):\n",
    "    box=[]\n",
    "    for z in range(1,(num1*num2)+1):\n",
    "        if z%num1==0 and z%num2==0:\n",
    "            box.append(z)\n",
    "            break\n",
    "    print(box[0])\n",
    "mi(int(input(\"첫 번째 정수 입력 : \")),int(input(\"두 번째 정수 입력 : \")))"
   ]
  },
  {
   "cell_type": "markdown",
   "id": "4ef4f2fe",
   "metadata": {},
   "source": [
    "### 2 이상의 양의 정수 하나를 입력 받아서, 2부터 해당 정수까지의 정수 중 소수를 출력하는 함수를 만드시오. #"
   ]
  },
  {
   "cell_type": "code",
   "execution_count": 32,
   "id": "2467f5f6",
   "metadata": {
    "ExecuteTime": {
     "end_time": "2021-10-26T11:59:35.000550Z",
     "start_time": "2021-10-26T11:59:33.922927Z"
    },
    "scrolled": false
   },
   "outputs": [
    {
     "name": "stdout",
     "output_type": "stream",
     "text": [
      "2 이상의 양의 정수를 하나만 입력해 주세요 : 100\n",
      "2\n",
      "3\n",
      "5\n",
      "7\n",
      "11\n",
      "13\n",
      "17\n",
      "19\n",
      "23\n",
      "29\n",
      "31\n",
      "37\n",
      "41\n",
      "43\n",
      "47\n",
      "53\n",
      "59\n",
      "61\n",
      "67\n",
      "71\n",
      "73\n",
      "79\n",
      "83\n",
      "89\n",
      "97\n"
     ]
    }
   ],
   "source": [
    "def susu(k):\n",
    "    for z in range(2,k):\n",
    "        count=0\n",
    "        for j in range(1,z+1):\n",
    "            if z%j==0:\n",
    "                count+=1\n",
    "        if count==2:\n",
    "            print(z)\n",
    "\n",
    "susu(int(input(\"2 이상의 양의 정수를 하나만 입력해 주세요 : \")))"
   ]
  },
  {
   "cell_type": "markdown",
   "id": "21325919",
   "metadata": {},
   "source": [
    "### "
   ]
  }
 ],
 "metadata": {
  "kernelspec": {
   "display_name": "Python 3",
   "language": "python",
   "name": "python3"
  },
  "language_info": {
   "codemirror_mode": {
    "name": "ipython",
    "version": 3
   },
   "file_extension": ".py",
   "mimetype": "text/x-python",
   "name": "python",
   "nbconvert_exporter": "python",
   "pygments_lexer": "ipython3",
   "version": "3.7.10"
  }
 },
 "nbformat": 4,
 "nbformat_minor": 5
}
