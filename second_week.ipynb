{
 "cells": [
  {
   "cell_type": "code",
   "execution_count": 1,
   "id": "b86cfd98",
   "metadata": {},
   "outputs": [],
   "source": [
    "#작성자: 오승엽\n",
    "#작성일자: 2021-09-16\n",
    "#작성목적: 실습 및 적용"
   ]
  },
  {
   "cell_type": "code",
   "execution_count": 44,
   "id": "c7c96a13",
   "metadata": {
    "scrolled": true
   },
   "outputs": [
    {
     "name": "stdout",
     "output_type": "stream",
     "text": [
      "hello world\n",
      "1\n",
      "<class 'str'> \n",
      "\n",
      "줄바꿈이 가능한 \n",
      "문자열\n",
      "출력\n",
      "<class 'str'> \n",
      "\n",
      "줄\n",
      "꿈\n",
      "력\n",
      "\n",
      "\n",
      "줄바꿈이\n",
      "줄바꿈이\n",
      "문자열\n",
      "출력\n",
      "줄바꿈이 가능한 \n",
      "문자열\n",
      "출력\n"
     ]
    }
   ],
   "source": [
    "# 파이썬 프로그래밍 2_3-2 자료형4\n",
    "\n",
    "#군집 자료형\n",
    "\n",
    "#문자열(str)\n",
    "a='hello world'\n",
    "print(a)\n",
    "a='1'\n",
    "#a= a+2 #int+str 불가\n",
    "print(a)\n",
    "print((type(a)),'\\n') \n",
    "\n",
    "a=\"hello world\" #같은 방법 '줄바꿈이\\n가능한\\n문자열'\n",
    "a= '''줄바꿈이 가능한 \n",
    "문자열\\n출력'''\n",
    "print(a)\n",
    "print(type(a),'\\n')\n",
    "\n",
    "# 인덱싱(indexing)\n",
    "print(a[0])\n",
    "print(a[2])\n",
    "print(a[-1])  #음수는 뒤에서부터\n",
    "print(a[-3]) #\\n도 하나의 기호이므로 인덱싱 & 슬라이싱 출력이 됨\n",
    "\n",
    "# 슬라이싱(slicing)\n",
    "print(a[0:4])# 0~3까지\n",
    "print(a[:4]) #아무것도 안쓰면 처음부터\n",
    "print(a[10:])# 10부터 끝까지\n",
    "print(a[:])# a전체 data"
   ]
  },
  {
   "cell_type": "code",
   "execution_count": 4,
   "id": "e7ae7ea4",
   "metadata": {
    "collapsed": true
   },
   "outputs": [
    {
     "name": "stdout",
     "output_type": "stream",
     "text": [
      "[1, 2, 3, 4, 5]\n",
      "<class 'list'>\n",
      "1\n",
      "2\n",
      "5\n",
      "[2, 3, 4]\n",
      "[1, 2, 3, 7]\n",
      "[1, 0, 2, 3, 7]\n",
      "[1, 0, 2, 3]\n",
      "[1, 2, 3]\n",
      "[2, 3]\n",
      "2\n",
      "0\n",
      "1\n",
      "[2, 3]\n",
      "[2, 3, 2, 3]\n",
      "[2, 4, 5, 8]\n",
      "[8, 5, 4, 2]\n",
      "[2, 4, 7]\n",
      "[5, 4, 3, 2, 1]\n",
      "[['a', 'b', 'c'], 1, 2, 3]\n",
      "b\n"
     ]
    }
   ],
   "source": [
    "# 리스트(list) ★\n",
    "a=[1,2,3,4,5]\n",
    "print(a)\n",
    "print(type(a))\n",
    "\n",
    "# 인덱성(indexing)\n",
    "print(a[0])\n",
    "print(a[1])\n",
    "print(a[-1])\n",
    "\n",
    "# 슬라이싱(slicing)\n",
    "print(a[1:4])\n",
    "\n",
    "# 메소드(method)\n",
    "\n",
    "# append\n",
    "a=[1,2,3]\n",
    "a.append(7) # 리스트에 7넣기\n",
    "print(a)\n",
    "\n",
    "# insert\n",
    "a.insert(1,0) #두 번째 위치에 0을 넣음 replace가아닌 삽입\n",
    "print(a)\n",
    "\n",
    "# pop\n",
    "a.pop() # 맨 끝 인자 빼기\n",
    "print(a)\n",
    "\n",
    "# del \n",
    "del(a[1]) #특정 위치 즉 두 번째 위치 요소 삭제\n",
    "print(a) \n",
    "\n",
    "# remove\n",
    "a.remove(1) #위치가 아닌 특정 요소 삭제\n",
    "print(a)\n",
    "\n",
    "# len\n",
    "b=len(a) #리스트 요소 개수\n",
    "print(b)\n",
    "\n",
    "# count\n",
    "print(a.count(1)) # 특정 요소 개수\n",
    "print(a.count(2)) \n",
    "\n",
    "# copy\n",
    "z=a.copy()# 리스트 복사\n",
    "print(z)\n",
    "\n",
    "# extend\n",
    "a.extend(z) # 리스트 병합\n",
    "print(a)\n",
    "\n",
    "# split\n",
    "email='dhwmd08@kpu.ac.kr'\n",
    "email.split('@') # 특정 문자를 기준으로 리스트 분리\n",
    "\n",
    "# sort,sorted\n",
    "n=[8,4,2,5]\n",
    "n.sort() #오름차순 정렬\n",
    "print(n)\n",
    "n.sort(reverse=True)#내림차순 정렬\n",
    "print(n)\n",
    "r=[7,4,2]\n",
    "m=sorted(r) #정렬된 리스트를 새로운 리스트에 복사\n",
    "print(m)\n",
    "\n",
    "# reverse\n",
    "u=[1,2,3,4,5]\n",
    "u.reverse() #리스트를 역순으로 정렬시킴\n",
    "print(u) #출력 \n",
    "\n",
    "# clear\n",
    "last=[1,2,3,4,5,6]\n",
    "last.clear() #리스트 요소 삭제\n",
    "last \n",
    "\n",
    "# 리스트 속의 리스트\n",
    "a=[['a','b','c'],1,2,3]\n",
    "print(a)\n",
    "print(a[0][1])\n",
    "\n",
    "# help(list) 리스트 메소드 보기\n",
    "\n"
   ]
  },
  {
   "cell_type": "code",
   "execution_count": 7,
   "id": "b459b824",
   "metadata": {},
   "outputs": [
    {
     "name": "stdout",
     "output_type": "stream",
     "text": [
      "<class 'tuple'>\n",
      "1\n",
      "3\n",
      "(1, 2)\n"
     ]
    },
    {
     "ename": "TypeError",
     "evalue": "'tuple' object does not support item assignment",
     "output_type": "error",
     "traceback": [
      "\u001b[1;31m---------------------------------------------------------------------------\u001b[0m",
      "\u001b[1;31mTypeError\u001b[0m                                 Traceback (most recent call last)",
      "\u001b[1;32m<ipython-input-7-c3dbf8d087fb>\u001b[0m in \u001b[0;36m<module>\u001b[1;34m\u001b[0m\n\u001b[0;32m      7\u001b[0m \u001b[0mprint\u001b[0m\u001b[1;33m(\u001b[0m\u001b[0ma\u001b[0m\u001b[1;33m[\u001b[0m\u001b[1;33m:\u001b[0m\u001b[1;36m2\u001b[0m\u001b[1;33m]\u001b[0m\u001b[1;33m)\u001b[0m\u001b[1;33m\u001b[0m\u001b[1;33m\u001b[0m\u001b[0m\n\u001b[0;32m      8\u001b[0m \u001b[1;33m\u001b[0m\u001b[0m\n\u001b[1;32m----> 9\u001b[1;33m \u001b[0ma\u001b[0m\u001b[1;33m[\u001b[0m\u001b[1;36m0\u001b[0m\u001b[1;33m]\u001b[0m\u001b[1;33m=\u001b[0m\u001b[1;36m5\u001b[0m\u001b[1;33m\u001b[0m\u001b[1;33m\u001b[0m\u001b[0m\n\u001b[0m",
      "\u001b[1;31mTypeError\u001b[0m: 'tuple' object does not support item assignment"
     ]
    }
   ],
   "source": [
    "# 튜플(tuple)\n",
    "a=(1,2,3)\n",
    "print(type(a))\n",
    "\n",
    "print(a[0])\n",
    "print(a[2])\n",
    "print(a[:2]) # 끝 -1\n",
    "\n",
    "# a[0]=5 튜플은 값 변경 x"
   ]
  },
  {
   "cell_type": "code",
   "execution_count": 15,
   "id": "816befea",
   "metadata": {
    "collapsed": true
   },
   "outputs": [
    {
     "name": "stdout",
     "output_type": "stream",
     "text": [
      "{1, 2, 3}\n",
      "<class 'set'>\n",
      "{1, 2, 3}\n",
      "{1, 2, 3}\n",
      "{1, 2, 3, 4, 5}\n",
      "{3}\n",
      "{1, 2}\n"
     ]
    }
   ],
   "source": [
    "# 집합(set)\n",
    "a = {1,2,3}\n",
    "print(a)\n",
    "print(type(a))\n",
    "\n",
    "# 집합은 순서가 없음\n",
    "a={3,1,2}\n",
    "print(a)\n",
    "\n",
    "# 중복 불가\n",
    "a={1,2,3,1,2}\n",
    "print(a)\n",
    "\n",
    "# 합집합\n",
    "a={1,2,3}\n",
    "b={3,4,5}\n",
    "print(a|b)\n",
    "\n",
    "# 교집합\n",
    "print(a&b)\n",
    "\n",
    "# 차집합\n",
    "print(a-b)"
   ]
  },
  {
   "cell_type": "code",
   "execution_count": 27,
   "id": "205a7846",
   "metadata": {},
   "outputs": [
    {
     "name": "stdout",
     "output_type": "stream",
     "text": [
      "{'key1': 'a', 'key2': 'b', 'key3': 'c'}\n",
      "<class 'dict'>\n",
      "c\n",
      "{'key1': 'a', 'key2': 'b', 'key3': 'c', 'key4': 'c'}\n",
      "dict_keys(['key1', 'key2', 'key3', 'key4'])\n",
      "dict_values(['a', 'b', 'c', 'c'])\n",
      "dict_items([('key1', 'a'), ('key2', 'b'), ('key3', 'c'), ('key4', 'c')])\n"
     ]
    }
   ],
   "source": [
    "# 딕셔너리(dict)\n",
    "a={'key1':\"a\",'key2':\"b\",'key3':\"c\"}\n",
    "print(a)\n",
    "print(type(a))\n",
    "print(a['key3'])\n",
    "\n",
    "a['key4']='c'\n",
    "print(a)\n",
    "\n",
    "print(a.keys())\n",
    "print(a.values())\n",
    "print(a.items())"
   ]
  },
  {
   "cell_type": "code",
   "execution_count": 40,
   "id": "ca5cfee2",
   "metadata": {},
   "outputs": [
    {
     "name": "stdout",
     "output_type": "stream",
     "text": [
      "<class 'float'>\n",
      "<class 'int'>\n",
      "<class 'float'>\n",
      "<class 'int'>\n",
      "<class 'int'>\n",
      "1\n",
      "<class 'float'>\n",
      "1.0\n",
      "<class 'int'>\n",
      "(1+0j)\n",
      "<class 'complex'>\n",
      "<class 'int'>\n",
      "True\n",
      "<class 'bool'>\n"
     ]
    }
   ],
   "source": [
    "# 파이썬 자료형 변환\n",
    "# 단일 자료형 변환\n",
    "# 정수형 변환(int)\n",
    "a = 1.0\n",
    "print(type(a))\n",
    "print(type(int(a)))# 단순변환 이 상태만 int\n",
    "print(type(a))\n",
    "\n",
    "a=int(a)# 정수형 변환 재할당 a->int\n",
    "print(type(a))\n",
    "\n",
    "# 실수형 변환\n",
    "a=1\n",
    "print(type(a))\n",
    "print(a)\n",
    "\n",
    "a=float(a)\n",
    "print(type(a))\n",
    "print(a)\n",
    "\n",
    "# 복소수형 변환(complex)\n",
    "a=1\n",
    "print(type(a))\n",
    "\n",
    "a=complex(a)\n",
    "print(a)\n",
    "print(type(a))\n",
    "\n",
    "# int(a) 복소수->정수 불가\n",
    "\n",
    "# 논리형 변환(bool)\n",
    "a=1 #0은 false\n",
    "print(type(a))\n",
    "a=bool(a)\n",
    "print(a)\n",
    "print(type(a))"
   ]
  },
  {
   "cell_type": "code",
   "execution_count": 46,
   "id": "b6607a71",
   "metadata": {},
   "outputs": [
    {
     "name": "stdout",
     "output_type": "stream",
     "text": [
      "1\n",
      "<class 'str'>\n",
      "['h', 'e', 'l', 'l', 'o']\n",
      "<class 'list'>\n",
      "(1, 2, 3)\n",
      "<class 'tuple'>\n",
      "{'h', 'l', 'e', 'o'}\n",
      "<class 'set'>\n",
      "{1: 2, 3: 4}\n",
      "<class 'dict'>\n"
     ]
    }
   ],
   "source": [
    "# 군집 자료형 변환\n",
    "# 문자열\n",
    "a=1\n",
    "a=str(a)\n",
    "print(a)\n",
    "print(type(a))\n",
    "\n",
    "# 리스트 변환(list)\n",
    "a='hello'\n",
    "a=list(a)\n",
    "print(a)\n",
    "print(type(a))\n",
    "\n",
    "# 튜플 변환(tuple)\n",
    "a=[1,2,3]\n",
    "a=tuple(a)\n",
    "print(a)\n",
    "print(type(a))\n",
    "\n",
    "# 집합 변환(set)\n",
    "a='hello'\n",
    "a=set(a)\n",
    "print(a)\n",
    "print(type(a))\n",
    "\n",
    "# 딕셔너리 변환(dict)\n",
    "a=[1,2,3]\n",
    "# a=dict(a) key값의 부재\n",
    "\n",
    "a=[[1,2],[3,4]]\n",
    "a=dict(a)\n",
    "print(a)\n",
    "print(type(a))"
   ]
  },
  {
   "cell_type": "code",
   "execution_count": null,
   "id": "92901eb7",
   "metadata": {},
   "outputs": [],
   "source": []
  }
 ],
 "metadata": {
  "kernelspec": {
   "display_name": "Python 3",
   "language": "python",
   "name": "python3"
  },
  "language_info": {
   "codemirror_mode": {
    "name": "ipython",
    "version": 3
   },
   "file_extension": ".py",
   "mimetype": "text/x-python",
   "name": "python",
   "nbconvert_exporter": "python",
   "pygments_lexer": "ipython3",
   "version": "3.8.8"
  }
 },
 "nbformat": 4,
 "nbformat_minor": 5
}
