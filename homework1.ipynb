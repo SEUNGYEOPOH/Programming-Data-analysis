{
 "cells": [
  {
   "cell_type": "code",
   "execution_count": null,
   "id": "98e51a43",
   "metadata": {},
   "outputs": [],
   "source": [
    "# 작성일자 : 2021-09-27 \n",
    "# 작성자 : 오승엽\n",
    "# 작성목적 : 과제"
   ]
  },
  {
   "cell_type": "markdown",
   "id": "89fea452",
   "metadata": {},
   "source": [
    "## 과제 1-1"
   ]
  },
  {
   "cell_type": "code",
   "execution_count": 1,
   "id": "cdd56cce",
   "metadata": {},
   "outputs": [
    {
     "name": "stdout",
     "output_type": "stream",
     "text": [
      "2\n",
      "3\n"
     ]
    }
   ],
   "source": [
    "# 첫번째 풀이\n",
    "a=3\n",
    "b=2\n",
    "temp1=b \n",
    "temp2=a \n",
    "a=temp1 \n",
    "b=temp2 \n",
    "print(a)\n",
    "print(b)\n"
   ]
  },
  {
   "cell_type": "code",
   "execution_count": 5,
   "id": "79882cb4",
   "metadata": {},
   "outputs": [
    {
     "name": "stdout",
     "output_type": "stream",
     "text": [
      "2\n",
      "3\n"
     ]
    }
   ],
   "source": [
    "# 두번째 풀이\n",
    "a=3\n",
    "b=2\n",
    "temp=a\n",
    "a=0\n",
    "a=b\n",
    "b=temp\n",
    "print(a)\n",
    "print(b)\n"
   ]
  },
  {
   "cell_type": "markdown",
   "id": "43ac93f7",
   "metadata": {},
   "source": [
    "## 과제 1-2"
   ]
  },
  {
   "cell_type": "code",
   "execution_count": 1,
   "id": "55db5463",
   "metadata": {},
   "outputs": [
    {
     "name": "stdout",
     "output_type": "stream",
     "text": [
      "mile=3, km=4.827000\n"
     ]
    }
   ],
   "source": [
    "mile=3\n",
    "km=mile*1.609\n",
    "print(\"mile=%d, km=%f\"%(mile,km))"
   ]
  },
  {
   "cell_type": "markdown",
   "id": "edea825a",
   "metadata": {},
   "source": [
    "## 과제 1-3"
   ]
  },
  {
   "cell_type": "code",
   "execution_count": 41,
   "id": "ec787a3d",
   "metadata": {},
   "outputs": [
    {
     "name": "stdout",
     "output_type": "stream",
     "text": [
      "원 넓이: 78.500000\n"
     ]
    }
   ],
   "source": [
    "r=5\n",
    "s=3.14*r*r\n",
    "print(\"원 넓이: %f\"%(s))"
   ]
  },
  {
   "cell_type": "markdown",
   "id": "ace901da",
   "metadata": {},
   "source": [
    "## 과제 1-4"
   ]
  },
  {
   "cell_type": "code",
   "execution_count": 15,
   "id": "7940b970",
   "metadata": {},
   "outputs": [
    {
     "name": "stdout",
     "output_type": "stream",
     "text": [
      "28.259999999999998\n",
      "3.14\n",
      "3\n"
     ]
    }
   ],
   "source": [
    "circle=[]\n",
    "r=3\n",
    "pi=3.14\n",
    "s=pi*r*r\n",
    "circle.append(r)\n",
    "circle.append(pi)\n",
    "circle.append(s)\n",
    "print(circle.pop())\n",
    "print(circle.pop())\n",
    "print(circle.pop())\n",
    "\n"
   ]
  },
  {
   "cell_type": "markdown",
   "id": "d37c8cb3",
   "metadata": {},
   "source": [
    "## 과제 1-5"
   ]
  },
  {
   "cell_type": "code",
   "execution_count": 1,
   "id": "4d8c280e",
   "metadata": {},
   "outputs": [
    {
     "name": "stdout",
     "output_type": "stream",
     "text": [
      "True\n"
     ]
    }
   ],
   "source": [
    "#한개이상 거짓=참\n",
    "#모든입력 참=거짓 \n",
    "a=True\n",
    "b=False\n",
    "print(not(a and b))\n",
    "\n",
    "\n",
    "\n"
   ]
  },
  {
   "cell_type": "code",
   "execution_count": null,
   "id": "3a5fef9f",
   "metadata": {},
   "outputs": [],
   "source": []
  }
 ],
 "metadata": {
  "kernelspec": {
   "display_name": "Python 3",
   "language": "python",
   "name": "python3"
  },
  "language_info": {
   "codemirror_mode": {
    "name": "ipython",
    "version": 3
   },
   "file_extension": ".py",
   "mimetype": "text/x-python",
   "name": "python",
   "nbconvert_exporter": "python",
   "pygments_lexer": "ipython3",
   "version": "3.8.8"
  }
 },
 "nbformat": 4,
 "nbformat_minor": 5
}
