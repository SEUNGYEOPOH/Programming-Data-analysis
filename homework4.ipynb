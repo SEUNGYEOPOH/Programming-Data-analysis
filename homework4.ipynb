{
 "cells": [
  {
   "cell_type": "markdown",
   "id": "0dfea40e",
   "metadata": {},
   "source": [
    "## 오름차순 풀이 1"
   ]
  },
  {
   "cell_type": "code",
   "execution_count": 8,
   "id": "809209b2",
   "metadata": {},
   "outputs": [
    {
     "data": {
      "text/plain": [
       "[1, 2, 20, 30, 43, 45, 100, 100]"
      ]
     },
     "execution_count": 8,
     "metadata": {},
     "output_type": "execute_result"
    }
   ],
   "source": [
    "def asc(*args): # 오름차순\n",
    "    array=list(args)\n",
    "    for i in range(len(array)):\n",
    "        for z in range(i):\n",
    "            if array[i]<array[z]:\n",
    "                 array[i],array[z]=array[z],array[i]\n",
    "    return array\n",
    "asc(100,20,45,100,43,2,1,30)"
   ]
  },
  {
   "cell_type": "markdown",
   "id": "e49ff3a6",
   "metadata": {},
   "source": [
    "## 내림차순 풀이 1"
   ]
  },
  {
   "cell_type": "code",
   "execution_count": 9,
   "id": "a76afaa5",
   "metadata": {},
   "outputs": [
    {
     "data": {
      "text/plain": [
       "[100, 100, 45, 43, 30, 20, 2, 1]"
      ]
     },
     "execution_count": 9,
     "metadata": {},
     "output_type": "execute_result"
    }
   ],
   "source": [
    "def asc(*args): # 내림차순\n",
    "    array=list(args)\n",
    "    for i in range(len(array)):\n",
    "        for z in range(i):\n",
    "            if array[i]>array[z]:\n",
    "                 array[i],array[z]=array[z],array[i]\n",
    "    return array\n",
    "asc(100,20,45,100,43,2,1,30)"
   ]
  },
  {
   "cell_type": "markdown",
   "id": "52a76980",
   "metadata": {},
   "source": [
    "## 오름차순 풀이 2"
   ]
  },
  {
   "cell_type": "code",
   "execution_count": 16,
   "id": "98991d14",
   "metadata": {},
   "outputs": [
    {
     "name": "stdout",
     "output_type": "stream",
     "text": [
      "1 2 4 5 6 1 2 3 4 5 6\n"
     ]
    },
    {
     "data": {
      "text/plain": [
       "[1, 1, 2, 2, 3, 4, 4, 5, 5, 6, 6]"
      ]
     },
     "execution_count": 16,
     "metadata": {},
     "output_type": "execute_result"
    }
   ],
   "source": [
    "def asc(array): # 오름차순\n",
    "    for i in range(len(array)):\n",
    "        for z in range(i):\n",
    "            if array[i]<array[z]:\n",
    "                 array[i],array[z]=array[z],array[i]\n",
    "    return array\n",
    "asc(list(map(int,input().split())))"
   ]
  },
  {
   "cell_type": "markdown",
   "id": "b655e26d",
   "metadata": {},
   "source": [
    "## 내림차순 풀이 2"
   ]
  },
  {
   "cell_type": "code",
   "execution_count": 13,
   "id": "2927df2b",
   "metadata": {},
   "outputs": [
    {
     "name": "stdout",
     "output_type": "stream",
     "text": [
      "1 3 3 2 1 4 4 5 6 1 \n"
     ]
    },
    {
     "data": {
      "text/plain": [
       "[6, 5, 4, 4, 3, 3, 2, 1, 1, 1]"
      ]
     },
     "execution_count": 13,
     "metadata": {},
     "output_type": "execute_result"
    }
   ],
   "source": [
    "def asc(array): # 내림차순\n",
    "    for i in range(len(array)):\n",
    "        for z in range(i):\n",
    "            if array[i]>array[z]:\n",
    "                 array[i],array[z]=array[z],array[i]\n",
    "    return array\n",
    "asc(list(map(int,input().split())))"
   ]
  },
  {
   "cell_type": "code",
   "execution_count": null,
   "id": "847eaa66",
   "metadata": {},
   "outputs": [],
   "source": []
  },
  {
   "cell_type": "code",
   "execution_count": null,
   "id": "9e781ccc",
   "metadata": {},
   "outputs": [],
   "source": []
  },
  {
   "cell_type": "code",
   "execution_count": null,
   "id": "7c891895",
   "metadata": {},
   "outputs": [],
   "source": []
  },
  {
   "cell_type": "code",
   "execution_count": null,
   "id": "1563f5b2",
   "metadata": {},
   "outputs": [],
   "source": []
  },
  {
   "cell_type": "code",
   "execution_count": null,
   "id": "75040034",
   "metadata": {},
   "outputs": [],
   "source": []
  },
  {
   "cell_type": "code",
   "execution_count": 5,
   "id": "c09c64bb",
   "metadata": {},
   "outputs": [
    {
     "data": {
      "text/plain": [
       "[1, 1, 2, 2, 3, 3, 3, 4, 4]"
      ]
     },
     "execution_count": 5,
     "metadata": {},
     "output_type": "execute_result"
    }
   ],
   "source": [
    "def asc(*args):\n",
    "    array=list(args)\n",
    "    for i in range(len(array)):\n",
    "        for z in range(i):\n",
    "            if array[i] < array[z]:\n",
    "                array[i],array[z]=array[z],array[i]\n",
    "    return array\n",
    "asc(1,3,2,4,3,2,1,4,3)"
   ]
  },
  {
   "cell_type": "code",
   "execution_count": 6,
   "id": "d66029ef",
   "metadata": {},
   "outputs": [
    {
     "data": {
      "text/plain": [
       "[66, 5, 4, 4, 3, 3, 2, 2, 1]"
      ]
     },
     "execution_count": 6,
     "metadata": {},
     "output_type": "execute_result"
    }
   ],
   "source": [
    "def desc (*args):\n",
    "    array=list(args)\n",
    "    for i in range(len(array)):\n",
    "        for z in range(i):\n",
    "            if array[i] > array[z]:\n",
    "                array[i],array[z]=array[z],array[i]\n",
    "    return array\n",
    "desc(1,2,3,4,5,66,4,3,2)"
   ]
  },
  {
   "cell_type": "code",
   "execution_count": null,
   "id": "76b2a3fb",
   "metadata": {},
   "outputs": [],
   "source": []
  }
 ],
 "metadata": {
  "kernelspec": {
   "display_name": "Python 3",
   "language": "python",
   "name": "python3"
  },
  "language_info": {
   "codemirror_mode": {
    "name": "ipython",
    "version": 3
   },
   "file_extension": ".py",
   "mimetype": "text/x-python",
   "name": "python",
   "nbconvert_exporter": "python",
   "pygments_lexer": "ipython3",
   "version": "3.8.8"
  }
 },
 "nbformat": 4,
 "nbformat_minor": 5
}
