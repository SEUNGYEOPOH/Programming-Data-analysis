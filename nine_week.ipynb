{
 "cells": [
  {
   "cell_type": "code",
   "execution_count": 16,
   "id": "9aaa2d47",
   "metadata": {},
   "outputs": [],
   "source": [
    "### 작성자 : 오승엽\n",
    "### 작성일자 : 2021-11-14\n",
    "### 작성목적 : 실습 및 적용"
   ]
  },
  {
   "cell_type": "markdown",
   "id": "0c698299",
   "metadata": {},
   "source": [
    "### Pythonic code\n",
    "- 파이썬에서 활용되는 간결한 문법의 코드\n",
    "- 생산성 향상\n",
    "- list comprehension, enmerate, split, join, zip"
   ]
  },
  {
   "cell_type": "markdown",
   "id": "fd514661",
   "metadata": {},
   "source": [
    "## list comprehension\n",
    "- 리스트 내에서 조건문,반복문 활용\n",
    "- 사용법 1 \n",
    "\n",
    "      [연산 for 변수 1 in 변수 2]"
   ]
  },
  {
   "cell_type": "markdown",
   "id": "e00a4e1a",
   "metadata": {},
   "source": [
    "## enumerate\n",
    "- 인덱스와 값을 한 쌍으로 반환\n",
    "- for 문에서 인덱스와 값을 함께 다룰 때 range, len, 함수 등을 대체하여 간결한 코드 작성에 용이함\n",
    "\n",
    "      for 인덱스, 변수 in enumerate(list):\n",
    "          print('%d, %d'%(i,num))"
   ]
  },
  {
   "cell_type": "code",
   "execution_count": 13,
   "id": "cba50b72",
   "metadata": {},
   "outputs": [
    {
     "name": "stdout",
     "output_type": "stream",
     "text": [
      "[1, 4, 9]\n"
     ]
    }
   ],
   "source": [
    "# 파이썬 스타일 코드\n",
    "\n",
    "# 리스트 컴프리핸션\n",
    "\n",
    "# 반복문과 append\n",
    "a=[1,2,3]\n",
    "square=[]\n",
    "for i in a:\n",
    "    square.append(i**2)\n",
    "print(square)"
   ]
  },
  {
   "cell_type": "code",
   "execution_count": 17,
   "id": "b74d69b0",
   "metadata": {},
   "outputs": [
    {
     "name": "stdout",
     "output_type": "stream",
     "text": [
      "[1, 4, 9]\n"
     ]
    }
   ],
   "source": [
    "# 리스트 컴프리핸션 활용\n",
    "\n",
    "square = [i**2 for i in [1,2,3]]\n",
    "print(square)\n"
   ]
  },
  {
   "cell_type": "code",
   "execution_count": 19,
   "id": "17d1ae62",
   "metadata": {},
   "outputs": [
    {
     "name": "stdout",
     "output_type": "stream",
     "text": [
      "[9]\n"
     ]
    }
   ],
   "source": [
    "# 3의 배수만 제곱\n",
    "# 반복문과 append\n",
    "a=[1,2,3]\n",
    "square=[]\n",
    "for i in a:\n",
    "    if i % 3 ==0:\n",
    "        square.append(i**2)\n",
    "print(square)"
   ]
  },
  {
   "cell_type": "code",
   "execution_count": 20,
   "id": "28743fb5",
   "metadata": {},
   "outputs": [
    {
     "name": "stdout",
     "output_type": "stream",
     "text": [
      "[9]\n"
     ]
    }
   ],
   "source": [
    "# 리스트 컴프리핸션 활용\n",
    "\n",
    "square = [i**2 for i in [1,2,3] if i % 3==0 ]\n",
    "print(square)"
   ]
  },
  {
   "cell_type": "code",
   "execution_count": 4,
   "id": "7c8f4d2e",
   "metadata": {},
   "outputs": [
    {
     "name": "stdout",
     "output_type": "stream",
     "text": [
      "index[0] = 1\n",
      "index[1] = 2\n",
      "index[2] = 3\n"
     ]
    }
   ],
   "source": [
    "# enumerate\n",
    "for i, num in enumerate([1,2,3]):\n",
    "    print('index[%d] = %d'%(i,num))"
   ]
  },
  {
   "cell_type": "code",
   "execution_count": 8,
   "id": "af89b67c",
   "metadata": {},
   "outputs": [
    {
     "name": "stdout",
     "output_type": "stream",
     "text": [
      "index[0] : 1\n",
      "index[1] : 2\n",
      "index[2] : 3\n",
      "\n",
      "index[0] = 1\n",
      "index[1] = 2\n",
      "index[2] = 3\n"
     ]
    }
   ],
   "source": [
    "# 반복문과 append\n",
    "count=0\n",
    "for i in [1,2,3]:\n",
    "    print('index[%d] : %d'%(count,i))\n",
    "    count+=1\n",
    "    \n",
    "print()\n",
    "# 반복문만\n",
    "array=[1,2,3]\n",
    "for i in range(len(array)):\n",
    "    print('index[%d] = %d'%(i,array[i]))"
   ]
  },
  {
   "cell_type": "markdown",
   "id": "67abc41c",
   "metadata": {},
   "source": [
    "## 예제 1: 50~100까지 숫자를 오름차순으로 순서 1부터 표시하여 함께 출력\n"
   ]
  },
  {
   "cell_type": "code",
   "execution_count": 9,
   "id": "e3deb233",
   "metadata": {},
   "outputs": [
    {
     "name": "stdout",
     "output_type": "stream",
     "text": [
      "1 : 50\n",
      "2 : 51\n",
      "3 : 52\n",
      "4 : 53\n",
      "5 : 54\n",
      "6 : 55\n",
      "7 : 56\n",
      "8 : 57\n",
      "9 : 58\n",
      "10 : 59\n",
      "11 : 60\n",
      "12 : 61\n",
      "13 : 62\n",
      "14 : 63\n",
      "15 : 64\n",
      "16 : 65\n",
      "17 : 66\n",
      "18 : 67\n",
      "19 : 68\n",
      "20 : 69\n",
      "21 : 70\n",
      "22 : 71\n",
      "23 : 72\n",
      "24 : 73\n",
      "25 : 74\n",
      "26 : 75\n",
      "27 : 76\n",
      "28 : 77\n",
      "29 : 78\n",
      "30 : 79\n",
      "31 : 80\n",
      "32 : 81\n",
      "33 : 82\n",
      "34 : 83\n",
      "35 : 84\n",
      "36 : 85\n",
      "37 : 86\n",
      "38 : 87\n",
      "39 : 88\n",
      "40 : 89\n",
      "41 : 90\n",
      "42 : 91\n",
      "43 : 92\n",
      "44 : 93\n",
      "45 : 94\n",
      "46 : 95\n",
      "47 : 96\n",
      "48 : 97\n",
      "49 : 98\n",
      "50 : 99\n",
      "51 : 100\n"
     ]
    }
   ],
   "source": [
    "count=1\n",
    "for i in range(50,101):\n",
    "    print('%d : %d'%(count,i))\n",
    "    count+=1"
   ]
  },
  {
   "cell_type": "code",
   "execution_count": 14,
   "id": "42d18b69",
   "metadata": {},
   "outputs": [
    {
     "name": "stdout",
     "output_type": "stream",
     "text": [
      "0 : 50\n",
      "1 : 51\n",
      "2 : 52\n",
      "3 : 53\n",
      "4 : 54\n",
      "5 : 55\n",
      "6 : 56\n",
      "7 : 57\n",
      "8 : 58\n",
      "9 : 59\n",
      "10 : 60\n",
      "11 : 61\n",
      "12 : 62\n",
      "13 : 63\n",
      "14 : 64\n",
      "15 : 65\n",
      "16 : 66\n",
      "17 : 67\n",
      "18 : 68\n",
      "19 : 69\n",
      "20 : 70\n",
      "21 : 71\n",
      "22 : 72\n",
      "23 : 73\n",
      "24 : 74\n",
      "25 : 75\n",
      "26 : 76\n",
      "27 : 77\n",
      "28 : 78\n",
      "29 : 79\n",
      "30 : 80\n",
      "31 : 81\n",
      "32 : 82\n",
      "33 : 83\n",
      "34 : 84\n",
      "35 : 85\n",
      "36 : 86\n",
      "37 : 87\n",
      "38 : 88\n",
      "39 : 89\n",
      "40 : 90\n",
      "41 : 91\n",
      "42 : 92\n",
      "43 : 93\n",
      "44 : 94\n",
      "45 : 95\n",
      "46 : 96\n",
      "47 : 97\n",
      "48 : 98\n",
      "49 : 99\n",
      "50 : 100\n"
     ]
    }
   ],
   "source": [
    "for i, num in enumerate(range(50,101)):\n",
    "    print('%d : %d'%(i,num))"
   ]
  },
  {
   "cell_type": "markdown",
   "id": "5ea7814a",
   "metadata": {},
   "source": [
    "# 예제 2"
   ]
  },
  {
   "cell_type": "code",
   "execution_count": 20,
   "id": "212172da",
   "metadata": {},
   "outputs": [
    {
     "name": "stdout",
     "output_type": "stream",
     "text": [
      "language[0] : Python\n",
      "language[1] : R\n",
      "language[2] : Java\n",
      "\n",
      "language[0] : Python\n",
      "language[1] : R\n",
      "language[2] : Java\n"
     ]
    }
   ],
   "source": [
    "language = ['Python','R','Java']\n",
    "count=0\n",
    "for i in language:\n",
    "    print('language[%d] : %s'%(count,i))\n",
    "    count+=1\n",
    "print()\n",
    "for i in range(len(language)):\n",
    "    print('language[%d] : %s'%(i,language[i]))"
   ]
  },
  {
   "cell_type": "code",
   "execution_count": 21,
   "id": "e783c487",
   "metadata": {},
   "outputs": [
    {
     "name": "stdout",
     "output_type": "stream",
     "text": [
      "language[0] : Python\n",
      "language[1] : R\n",
      "language[2] : Java\n"
     ]
    }
   ],
   "source": [
    "language = ['Python','R','Java']\n",
    "for i, st in enumerate(language):\n",
    "    print('language[%d] : %s'%(i,st))"
   ]
  },
  {
   "cell_type": "markdown",
   "id": "e6c06b9f",
   "metadata": {},
   "source": [
    "## 응용 1"
   ]
  },
  {
   "cell_type": "code",
   "execution_count": 56,
   "id": "d7b25745",
   "metadata": {},
   "outputs": [
    {
     "name": "stdout",
     "output_type": "stream",
     "text": [
      "[1, 3, 5, 7, 9, 11, 13, 15, 17, 19, 21, 23, 25, 27, 29, 31, 33, 35, 37, 39, 41, 43, 45, 47, 49, 51, 53, 55, 57, 59, 61, 63, 65, 67, 69, 71, 73, 75, 77, 79, 81, 83, 85, 87, 89, 91, 93, 95, 97, 99]\n"
     ]
    }
   ],
   "source": [
    "gugu = [i for i in range(1,101) if i % 2==1]\n",
    "print(gugu)"
   ]
  },
  {
   "cell_type": "markdown",
   "id": "d2ed4f8d",
   "metadata": {},
   "source": [
    "## 응용 2"
   ]
  },
  {
   "cell_type": "code",
   "execution_count": 32,
   "id": "ec75a174",
   "metadata": {},
   "outputs": [
    {
     "data": {
      "text/plain": [
       "[[1, 1, 1],\n",
       " [1, 2, 2],\n",
       " [1, 3, 3],\n",
       " [1, 4, 4],\n",
       " [1, 5, 5],\n",
       " [1, 6, 6],\n",
       " [1, 7, 7],\n",
       " [1, 8, 8],\n",
       " [1, 9, 9],\n",
       " [2, 1, 2],\n",
       " [2, 2, 4],\n",
       " [2, 3, 6],\n",
       " [2, 4, 8],\n",
       " [2, 5, 10],\n",
       " [2, 6, 12],\n",
       " [2, 7, 14],\n",
       " [2, 8, 16],\n",
       " [2, 9, 18],\n",
       " [3, 1, 3],\n",
       " [3, 2, 6],\n",
       " [3, 3, 9],\n",
       " [3, 4, 12],\n",
       " [3, 5, 15],\n",
       " [3, 6, 18],\n",
       " [3, 7, 21],\n",
       " [3, 8, 24],\n",
       " [3, 9, 27],\n",
       " [4, 1, 4],\n",
       " [4, 2, 8],\n",
       " [4, 3, 12],\n",
       " [4, 4, 16],\n",
       " [4, 5, 20],\n",
       " [4, 6, 24],\n",
       " [4, 7, 28],\n",
       " [4, 8, 32],\n",
       " [4, 9, 36],\n",
       " [5, 1, 5],\n",
       " [5, 2, 10],\n",
       " [5, 3, 15],\n",
       " [5, 4, 20],\n",
       " [5, 5, 25],\n",
       " [5, 6, 30],\n",
       " [5, 7, 35],\n",
       " [5, 8, 40],\n",
       " [5, 9, 45],\n",
       " [6, 1, 6],\n",
       " [6, 2, 12],\n",
       " [6, 3, 18],\n",
       " [6, 4, 24],\n",
       " [6, 5, 30],\n",
       " [6, 6, 36],\n",
       " [6, 7, 42],\n",
       " [6, 8, 48],\n",
       " [6, 9, 54],\n",
       " [7, 1, 7],\n",
       " [7, 2, 14],\n",
       " [7, 3, 21],\n",
       " [7, 4, 28],\n",
       " [7, 5, 35],\n",
       " [7, 6, 42],\n",
       " [7, 7, 49],\n",
       " [7, 8, 56],\n",
       " [7, 9, 63],\n",
       " [8, 1, 8],\n",
       " [8, 2, 16],\n",
       " [8, 3, 24],\n",
       " [8, 4, 32],\n",
       " [8, 5, 40],\n",
       " [8, 6, 48],\n",
       " [8, 7, 56],\n",
       " [8, 8, 64],\n",
       " [8, 9, 72],\n",
       " [9, 1, 9],\n",
       " [9, 2, 18],\n",
       " [9, 3, 27],\n",
       " [9, 4, 36],\n",
       " [9, 5, 45],\n",
       " [9, 6, 54],\n",
       " [9, 7, 63],\n",
       " [9, 8, 72],\n",
       " [9, 9, 81]]"
      ]
     },
     "execution_count": 32,
     "metadata": {},
     "output_type": "execute_result"
    }
   ],
   "source": [
    "gugu_2 = [[i,z,i*z] for i in range(1,10) for z in range(1,10)]\n",
    "gugu_2"
   ]
  },
  {
   "cell_type": "markdown",
   "id": "af53fb0e",
   "metadata": {},
   "source": [
    "## 응용 3"
   ]
  },
  {
   "cell_type": "code",
   "execution_count": 37,
   "id": "a33ed797",
   "metadata": {},
   "outputs": [
    {
     "data": {
      "text/plain": [
       "[[9, 1, 9],\n",
       " [9, 2, 18],\n",
       " [9, 3, 27],\n",
       " [9, 4, 36],\n",
       " [9, 5, 45],\n",
       " [9, 6, 54],\n",
       " [9, 7, 63],\n",
       " [9, 8, 72],\n",
       " [9, 9, 81],\n",
       " [8, 1, 8],\n",
       " [8, 2, 16],\n",
       " [8, 3, 24],\n",
       " [8, 4, 32],\n",
       " [8, 5, 40],\n",
       " [8, 6, 48],\n",
       " [8, 7, 56],\n",
       " [8, 8, 64],\n",
       " [8, 9, 72],\n",
       " [7, 1, 7],\n",
       " [7, 2, 14],\n",
       " [7, 3, 21],\n",
       " [7, 4, 28],\n",
       " [7, 5, 35],\n",
       " [7, 6, 42],\n",
       " [7, 7, 49],\n",
       " [7, 8, 56],\n",
       " [7, 9, 63],\n",
       " [6, 1, 6],\n",
       " [6, 2, 12],\n",
       " [6, 3, 18],\n",
       " [6, 4, 24],\n",
       " [6, 5, 30],\n",
       " [6, 6, 36],\n",
       " [6, 7, 42],\n",
       " [6, 8, 48],\n",
       " [6, 9, 54],\n",
       " [5, 1, 5],\n",
       " [5, 2, 10],\n",
       " [5, 3, 15],\n",
       " [5, 4, 20],\n",
       " [5, 5, 25],\n",
       " [5, 6, 30],\n",
       " [5, 7, 35],\n",
       " [5, 8, 40],\n",
       " [5, 9, 45],\n",
       " [4, 1, 4],\n",
       " [4, 2, 8],\n",
       " [4, 3, 12],\n",
       " [4, 4, 16],\n",
       " [4, 5, 20],\n",
       " [4, 6, 24],\n",
       " [4, 7, 28],\n",
       " [4, 8, 32],\n",
       " [4, 9, 36],\n",
       " [3, 1, 3],\n",
       " [3, 2, 6],\n",
       " [3, 3, 9],\n",
       " [3, 4, 12],\n",
       " [3, 5, 15],\n",
       " [3, 6, 18],\n",
       " [3, 7, 21],\n",
       " [3, 8, 24],\n",
       " [3, 9, 27],\n",
       " [2, 1, 2],\n",
       " [2, 2, 4],\n",
       " [2, 3, 6],\n",
       " [2, 4, 8],\n",
       " [2, 5, 10],\n",
       " [2, 6, 12],\n",
       " [2, 7, 14],\n",
       " [2, 8, 16],\n",
       " [2, 9, 18],\n",
       " [1, 1, 1],\n",
       " [1, 2, 2],\n",
       " [1, 3, 3],\n",
       " [1, 4, 4],\n",
       " [1, 5, 5],\n",
       " [1, 6, 6],\n",
       " [1, 7, 7],\n",
       " [1, 8, 8],\n",
       " [1, 9, 9]]"
      ]
     },
     "execution_count": 37,
     "metadata": {},
     "output_type": "execute_result"
    }
   ],
   "source": [
    "qu = [[i,z,i*z] for i in range(9,0,-1) for z in range(1,10)]\n",
    "qu"
   ]
  },
  {
   "cell_type": "markdown",
   "id": "dc998a47",
   "metadata": {},
   "source": [
    "## 응용 4"
   ]
  },
  {
   "cell_type": "code",
   "execution_count": 34,
   "id": "57b425cf",
   "metadata": {},
   "outputs": [
    {
     "data": {
      "text/plain": [
       "[[1, 1, 1],\n",
       " [1, 2, 2],\n",
       " [1, 3, 3],\n",
       " [1, 4, 4],\n",
       " [1, 5, 5],\n",
       " [1, 6, 6],\n",
       " [1, 7, 7],\n",
       " [1, 8, 8],\n",
       " [1, 9, 9],\n",
       " [3, 1, 3],\n",
       " [3, 2, 6],\n",
       " [3, 3, 9],\n",
       " [3, 4, 12],\n",
       " [3, 5, 15],\n",
       " [3, 6, 18],\n",
       " [3, 7, 21],\n",
       " [3, 8, 24],\n",
       " [3, 9, 27],\n",
       " [7, 1, 7],\n",
       " [7, 2, 14],\n",
       " [7, 3, 21],\n",
       " [7, 4, 28],\n",
       " [7, 5, 35],\n",
       " [7, 6, 42],\n",
       " [7, 7, 49],\n",
       " [7, 8, 56],\n",
       " [7, 9, 63],\n",
       " [9, 1, 9],\n",
       " [9, 2, 18],\n",
       " [9, 3, 27],\n",
       " [9, 4, 36],\n",
       " [9, 5, 45],\n",
       " [9, 6, 54],\n",
       " [9, 7, 63],\n",
       " [9, 8, 72],\n",
       " [9, 9, 81]]"
      ]
     },
     "execution_count": 34,
     "metadata": {},
     "output_type": "execute_result"
    }
   ],
   "source": [
    "gugu_4 = [[i,z,i*z] for i in range(1,10) for z in range(1,10) if i%2!=0 and i%5!=0]\n",
    "gugu_4"
   ]
  },
  {
   "cell_type": "markdown",
   "id": "66bb2af4",
   "metadata": {},
   "source": [
    "## 응용 5"
   ]
  },
  {
   "cell_type": "code",
   "execution_count": 39,
   "id": "af432326",
   "metadata": {},
   "outputs": [
    {
     "name": "stdout",
     "output_type": "stream",
     "text": [
      "[1, 2, 3, 6]\n"
     ]
    }
   ],
   "source": [
    "a=12\n",
    "b=6\n",
    "tul=[i for i in range(1,b+1) if a%i==0 and b%i==0]\n",
    "print(tul)"
   ]
  },
  {
   "cell_type": "markdown",
   "id": "9eb83353",
   "metadata": {},
   "source": [
    "## 응용 6"
   ]
  },
  {
   "cell_type": "code",
   "execution_count": 42,
   "id": "ca64361e",
   "metadata": {},
   "outputs": [
    {
     "name": "stdout",
     "output_type": "stream",
     "text": [
      "6\n"
     ]
    }
   ],
   "source": [
    "a=12\n",
    "b=6\n",
    "tul=[i for i in range(1,b+1) if a%i==0 and b%i==0]\n",
    "print(tul[-1])"
   ]
  },
  {
   "cell_type": "markdown",
   "id": "6fbd4438",
   "metadata": {},
   "source": [
    "## 응용 7"
   ]
  },
  {
   "cell_type": "code",
   "execution_count": 12,
   "id": "e5424dc0",
   "metadata": {},
   "outputs": [
    {
     "name": "stdout",
     "output_type": "stream",
     "text": [
      "12\n",
      "12\n"
     ]
    }
   ],
   "source": [
    "a=12\n",
    "b=6\n",
    "tul=[i for i in range(a,a*b+1) if i%a==0 and i%b==0]\n",
    "print(tul[0])\n",
    "print(min(tul))"
   ]
  },
  {
   "cell_type": "markdown",
   "id": "8354f66d",
   "metadata": {},
   "source": [
    "## 응용 8"
   ]
  },
  {
   "cell_type": "code",
   "execution_count": 5,
   "id": "cd9b976a",
   "metadata": {},
   "outputs": [
    {
     "data": {
      "text/plain": [
       "6"
      ]
     },
     "execution_count": 5,
     "metadata": {},
     "output_type": "execute_result"
    }
   ],
   "source": [
    "non_prime = [for i in range(2,101) for j in range(2,i) if i%j==0]"
   ]
  },
  {
   "cell_type": "code",
   "execution_count": 16,
   "id": "438d5f74",
   "metadata": {
    "scrolled": true
   },
   "outputs": [
    {
     "name": "stdout",
     "output_type": "stream",
     "text": [
      "1 : 4\n",
      "2 : 6\n",
      "3 : 8\n",
      "4 : 9\n",
      "5 : 10\n",
      "6 : 12\n",
      "7 : 14\n",
      "8 : 15\n",
      "9 : 16\n",
      "10 : 18\n",
      "11 : 20\n",
      "12 : 21\n",
      "13 : 22\n",
      "14 : 24\n",
      "15 : 25\n",
      "16 : 26\n",
      "17 : 27\n",
      "18 : 28\n",
      "19 : 30\n",
      "20 : 32\n",
      "21 : 33\n",
      "22 : 34\n",
      "23 : 35\n",
      "24 : 36\n",
      "25 : 38\n",
      "26 : 39\n",
      "27 : 40\n",
      "28 : 42\n",
      "29 : 44\n",
      "30 : 45\n",
      "31 : 46\n",
      "32 : 48\n",
      "33 : 49\n",
      "34 : 50\n",
      "35 : 51\n",
      "36 : 52\n",
      "37 : 54\n",
      "38 : 55\n",
      "39 : 56\n",
      "40 : 57\n",
      "41 : 58\n",
      "42 : 60\n",
      "43 : 62\n",
      "44 : 63\n",
      "45 : 64\n",
      "46 : 65\n",
      "47 : 66\n",
      "48 : 68\n",
      "49 : 69\n",
      "50 : 70\n",
      "51 : 72\n",
      "52 : 74\n",
      "53 : 75\n",
      "54 : 76\n",
      "55 : 77\n",
      "56 : 78\n",
      "57 : 80\n",
      "58 : 81\n",
      "59 : 82\n",
      "60 : 84\n",
      "61 : 85\n",
      "62 : 86\n",
      "63 : 87\n",
      "64 : 88\n",
      "65 : 90\n",
      "66 : 91\n",
      "67 : 92\n",
      "68 : 93\n",
      "69 : 94\n",
      "70 : 95\n",
      "71 : 96\n",
      "72 : 98\n",
      "73 : 99\n",
      "74 : 100\n"
     ]
    }
   ],
   "source": [
    "non_prime=[]\n",
    "for num,i in enumerate(range(2,101)):\n",
    "    count=0\n",
    "    for j in range(1,i+1):\n",
    "        if i%j==0:\n",
    "            count+=1\n",
    "    if count!=2:\n",
    "        non_prime.append(i)\n",
    "\n",
    "for i in range(len(non_prime)):\n",
    "    print(\"%d : %d\"%(i+1,non_prime[i]))"
   ]
  },
  {
   "cell_type": "code",
   "execution_count": 23,
   "id": "c66bfaf1",
   "metadata": {},
   "outputs": [
    {
     "name": "stdout",
     "output_type": "stream",
     "text": [
      "1 : 4\n",
      "2 : 6\n",
      "3 : 8\n",
      "4 : 9\n",
      "5 : 10\n",
      "6 : 12\n",
      "7 : 14\n",
      "8 : 15\n",
      "9 : 16\n",
      "10 : 18\n",
      "11 : 20\n",
      "12 : 21\n",
      "13 : 22\n",
      "14 : 24\n",
      "15 : 25\n",
      "16 : 26\n",
      "17 : 27\n",
      "18 : 28\n",
      "19 : 30\n",
      "20 : 32\n",
      "21 : 33\n",
      "22 : 34\n",
      "23 : 35\n",
      "24 : 36\n",
      "25 : 38\n",
      "26 : 39\n",
      "27 : 40\n",
      "28 : 42\n",
      "29 : 44\n",
      "30 : 45\n",
      "31 : 46\n",
      "32 : 48\n",
      "33 : 49\n",
      "34 : 50\n",
      "35 : 51\n",
      "36 : 52\n",
      "37 : 54\n",
      "38 : 55\n",
      "39 : 56\n",
      "40 : 57\n",
      "41 : 58\n",
      "42 : 60\n",
      "43 : 62\n",
      "44 : 63\n",
      "45 : 64\n",
      "46 : 65\n",
      "47 : 66\n",
      "48 : 68\n",
      "49 : 69\n",
      "50 : 70\n",
      "51 : 72\n",
      "52 : 74\n",
      "53 : 75\n",
      "54 : 76\n",
      "55 : 77\n",
      "56 : 78\n",
      "57 : 80\n",
      "58 : 81\n",
      "59 : 82\n",
      "60 : 84\n",
      "61 : 85\n",
      "62 : 86\n",
      "63 : 87\n",
      "64 : 88\n",
      "65 : 90\n",
      "66 : 91\n",
      "67 : 92\n",
      "68 : 93\n",
      "69 : 94\n",
      "70 : 95\n",
      "71 : 96\n",
      "72 : 98\n",
      "73 : 99\n",
      "74 : 100\n"
     ]
    }
   ],
   "source": [
    "non_prime = set([i for i in range(2,101) for j in range(2,i) if i%j==0])\n",
    "non_prime=list(non_prime)\n",
    "for i in range(len(non_prime)):\n",
    "    print(\"%d : %d\"%(i+1,non_prime[i]))"
   ]
  }
 ],
 "metadata": {
  "kernelspec": {
   "display_name": "Python 3",
   "language": "python",
   "name": "python3"
  },
  "language_info": {
   "codemirror_mode": {
    "name": "ipython",
    "version": 3
   },
   "file_extension": ".py",
   "mimetype": "text/x-python",
   "name": "python",
   "nbconvert_exporter": "python",
   "pygments_lexer": "ipython3",
   "version": "3.8.8"
  }
 },
 "nbformat": 4,
 "nbformat_minor": 5
}
